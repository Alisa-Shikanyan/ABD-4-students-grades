{
  "cells": [
    {
      "cell_type": "markdown",
      "id": "c53ea452",
      "metadata": {
        "id": "c53ea452"
      },
      "source": [
        "# Анализ факторов, влияющих на успеваемость студентов"
      ]
    },
    {
      "cell_type": "markdown",
      "id": "f1171810",
      "metadata": {
        "id": "f1171810"
      },
      "source": [
        "## Подготовка к работе"
      ]
    },
    {
      "cell_type": "code",
      "execution_count": 14,
      "id": "4bffcb24",
      "metadata": {
        "id": "4bffcb24"
      },
      "outputs": [],
      "source": [
        "# Импорт необходимых для работы библиотек\n",
        "\n",
        "import pandas as pd\n",
        "from scipy import stats as st"
      ]
    },
    {
      "cell_type": "code",
      "execution_count": 15,
      "id": "d6ec8397",
      "metadata": {
        "id": "d6ec8397"
      },
      "outputs": [],
      "source": [
        "# Отключение предупреждений в итоговом отчёте\n",
        "\n",
        "import warnings\n",
        "warnings.filterwarnings('ignore')"
      ]
    },
    {
      "cell_type": "code",
      "execution_count": 16,
      "id": "14f3d7be",
      "metadata": {
        "id": "14f3d7be"
      },
      "outputs": [],
      "source": [
        "# Выгрузка предобработанной версии датасета `jamb`\n",
        "\n",
        "jamb = pd.read_csv('jamb.csv')"
      ]
    },
    {
      "cell_type": "code",
      "execution_count": 17,
      "id": "e1bac032",
      "metadata": {
        "scrolled": true,
        "colab": {
          "base_uri": "https://localhost:8080/",
          "height": 226
        },
        "id": "e1bac032",
        "outputId": "e157e7a3-f54f-4128-e3e4-91798c4af20b"
      },
      "outputs": [
        {
          "output_type": "execute_result",
          "data": {
            "text/plain": [
              "   jamb_score  study_hours_per_week  attendance_rate  teacher_quality  \\\n",
              "0         192                    22               78                4   \n",
              "1         207                    14               88                4   \n",
              "2         182                    29               87                2   \n",
              "3         210                    29               99                2   \n",
              "4         199                    12               98                3   \n",
              "\n",
              "   distance_to_school school_type school_location extra_tutorials  \\\n",
              "0                12.4      Public           Urban             Yes   \n",
              "1                 2.7      Public           Rural              No   \n",
              "2                 9.6      Public           Rural             Yes   \n",
              "3                 2.6      Public           Urban              No   \n",
              "4                 8.8      Public           Urban              No   \n",
              "\n",
              "  access_to_learning_materials parent_involvement it_knowledge  age  gender  \\\n",
              "0                          Yes               High       Medium   17    Male   \n",
              "1                          Yes               High         High   15    Male   \n",
              "2                          Yes               High       Medium   20  Female   \n",
              "3                          Yes             Medium         High   22  Female   \n",
              "4                          Yes             Medium       Medium   22  Female   \n",
              "\n",
              "  socioeconomic_status parent_education_level  assignments_completed  \n",
              "0                  Low               Tertiary                      2  \n",
              "1                 High                Unknown                      1  \n",
              "2                 High               Tertiary                      2  \n",
              "3               Medium               Tertiary                      1  \n",
              "4               Medium               Tertiary                      1  "
            ],
            "text/html": [
              "\n",
              "  <div id=\"df-06a7b4d5-e568-40bc-8de9-e16360674f1a\" class=\"colab-df-container\">\n",
              "    <div>\n",
              "<style scoped>\n",
              "    .dataframe tbody tr th:only-of-type {\n",
              "        vertical-align: middle;\n",
              "    }\n",
              "\n",
              "    .dataframe tbody tr th {\n",
              "        vertical-align: top;\n",
              "    }\n",
              "\n",
              "    .dataframe thead th {\n",
              "        text-align: right;\n",
              "    }\n",
              "</style>\n",
              "<table border=\"1\" class=\"dataframe\">\n",
              "  <thead>\n",
              "    <tr style=\"text-align: right;\">\n",
              "      <th></th>\n",
              "      <th>jamb_score</th>\n",
              "      <th>study_hours_per_week</th>\n",
              "      <th>attendance_rate</th>\n",
              "      <th>teacher_quality</th>\n",
              "      <th>distance_to_school</th>\n",
              "      <th>school_type</th>\n",
              "      <th>school_location</th>\n",
              "      <th>extra_tutorials</th>\n",
              "      <th>access_to_learning_materials</th>\n",
              "      <th>parent_involvement</th>\n",
              "      <th>it_knowledge</th>\n",
              "      <th>age</th>\n",
              "      <th>gender</th>\n",
              "      <th>socioeconomic_status</th>\n",
              "      <th>parent_education_level</th>\n",
              "      <th>assignments_completed</th>\n",
              "    </tr>\n",
              "  </thead>\n",
              "  <tbody>\n",
              "    <tr>\n",
              "      <th>0</th>\n",
              "      <td>192</td>\n",
              "      <td>22</td>\n",
              "      <td>78</td>\n",
              "      <td>4</td>\n",
              "      <td>12.4</td>\n",
              "      <td>Public</td>\n",
              "      <td>Urban</td>\n",
              "      <td>Yes</td>\n",
              "      <td>Yes</td>\n",
              "      <td>High</td>\n",
              "      <td>Medium</td>\n",
              "      <td>17</td>\n",
              "      <td>Male</td>\n",
              "      <td>Low</td>\n",
              "      <td>Tertiary</td>\n",
              "      <td>2</td>\n",
              "    </tr>\n",
              "    <tr>\n",
              "      <th>1</th>\n",
              "      <td>207</td>\n",
              "      <td>14</td>\n",
              "      <td>88</td>\n",
              "      <td>4</td>\n",
              "      <td>2.7</td>\n",
              "      <td>Public</td>\n",
              "      <td>Rural</td>\n",
              "      <td>No</td>\n",
              "      <td>Yes</td>\n",
              "      <td>High</td>\n",
              "      <td>High</td>\n",
              "      <td>15</td>\n",
              "      <td>Male</td>\n",
              "      <td>High</td>\n",
              "      <td>Unknown</td>\n",
              "      <td>1</td>\n",
              "    </tr>\n",
              "    <tr>\n",
              "      <th>2</th>\n",
              "      <td>182</td>\n",
              "      <td>29</td>\n",
              "      <td>87</td>\n",
              "      <td>2</td>\n",
              "      <td>9.6</td>\n",
              "      <td>Public</td>\n",
              "      <td>Rural</td>\n",
              "      <td>Yes</td>\n",
              "      <td>Yes</td>\n",
              "      <td>High</td>\n",
              "      <td>Medium</td>\n",
              "      <td>20</td>\n",
              "      <td>Female</td>\n",
              "      <td>High</td>\n",
              "      <td>Tertiary</td>\n",
              "      <td>2</td>\n",
              "    </tr>\n",
              "    <tr>\n",
              "      <th>3</th>\n",
              "      <td>210</td>\n",
              "      <td>29</td>\n",
              "      <td>99</td>\n",
              "      <td>2</td>\n",
              "      <td>2.6</td>\n",
              "      <td>Public</td>\n",
              "      <td>Urban</td>\n",
              "      <td>No</td>\n",
              "      <td>Yes</td>\n",
              "      <td>Medium</td>\n",
              "      <td>High</td>\n",
              "      <td>22</td>\n",
              "      <td>Female</td>\n",
              "      <td>Medium</td>\n",
              "      <td>Tertiary</td>\n",
              "      <td>1</td>\n",
              "    </tr>\n",
              "    <tr>\n",
              "      <th>4</th>\n",
              "      <td>199</td>\n",
              "      <td>12</td>\n",
              "      <td>98</td>\n",
              "      <td>3</td>\n",
              "      <td>8.8</td>\n",
              "      <td>Public</td>\n",
              "      <td>Urban</td>\n",
              "      <td>No</td>\n",
              "      <td>Yes</td>\n",
              "      <td>Medium</td>\n",
              "      <td>Medium</td>\n",
              "      <td>22</td>\n",
              "      <td>Female</td>\n",
              "      <td>Medium</td>\n",
              "      <td>Tertiary</td>\n",
              "      <td>1</td>\n",
              "    </tr>\n",
              "  </tbody>\n",
              "</table>\n",
              "</div>\n",
              "    <div class=\"colab-df-buttons\">\n",
              "\n",
              "  <div class=\"colab-df-container\">\n",
              "    <button class=\"colab-df-convert\" onclick=\"convertToInteractive('df-06a7b4d5-e568-40bc-8de9-e16360674f1a')\"\n",
              "            title=\"Convert this dataframe to an interactive table.\"\n",
              "            style=\"display:none;\">\n",
              "\n",
              "  <svg xmlns=\"http://www.w3.org/2000/svg\" height=\"24px\" viewBox=\"0 -960 960 960\">\n",
              "    <path d=\"M120-120v-720h720v720H120Zm60-500h600v-160H180v160Zm220 220h160v-160H400v160Zm0 220h160v-160H400v160ZM180-400h160v-160H180v160Zm440 0h160v-160H620v160ZM180-180h160v-160H180v160Zm440 0h160v-160H620v160Z\"/>\n",
              "  </svg>\n",
              "    </button>\n",
              "\n",
              "  <style>\n",
              "    .colab-df-container {\n",
              "      display:flex;\n",
              "      gap: 12px;\n",
              "    }\n",
              "\n",
              "    .colab-df-convert {\n",
              "      background-color: #E8F0FE;\n",
              "      border: none;\n",
              "      border-radius: 50%;\n",
              "      cursor: pointer;\n",
              "      display: none;\n",
              "      fill: #1967D2;\n",
              "      height: 32px;\n",
              "      padding: 0 0 0 0;\n",
              "      width: 32px;\n",
              "    }\n",
              "\n",
              "    .colab-df-convert:hover {\n",
              "      background-color: #E2EBFA;\n",
              "      box-shadow: 0px 1px 2px rgba(60, 64, 67, 0.3), 0px 1px 3px 1px rgba(60, 64, 67, 0.15);\n",
              "      fill: #174EA6;\n",
              "    }\n",
              "\n",
              "    .colab-df-buttons div {\n",
              "      margin-bottom: 4px;\n",
              "    }\n",
              "\n",
              "    [theme=dark] .colab-df-convert {\n",
              "      background-color: #3B4455;\n",
              "      fill: #D2E3FC;\n",
              "    }\n",
              "\n",
              "    [theme=dark] .colab-df-convert:hover {\n",
              "      background-color: #434B5C;\n",
              "      box-shadow: 0px 1px 3px 1px rgba(0, 0, 0, 0.15);\n",
              "      filter: drop-shadow(0px 1px 2px rgba(0, 0, 0, 0.3));\n",
              "      fill: #FFFFFF;\n",
              "    }\n",
              "  </style>\n",
              "\n",
              "    <script>\n",
              "      const buttonEl =\n",
              "        document.querySelector('#df-06a7b4d5-e568-40bc-8de9-e16360674f1a button.colab-df-convert');\n",
              "      buttonEl.style.display =\n",
              "        google.colab.kernel.accessAllowed ? 'block' : 'none';\n",
              "\n",
              "      async function convertToInteractive(key) {\n",
              "        const element = document.querySelector('#df-06a7b4d5-e568-40bc-8de9-e16360674f1a');\n",
              "        const dataTable =\n",
              "          await google.colab.kernel.invokeFunction('convertToInteractive',\n",
              "                                                    [key], {});\n",
              "        if (!dataTable) return;\n",
              "\n",
              "        const docLinkHtml = 'Like what you see? Visit the ' +\n",
              "          '<a target=\"_blank\" href=https://colab.research.google.com/notebooks/data_table.ipynb>data table notebook</a>'\n",
              "          + ' to learn more about interactive tables.';\n",
              "        element.innerHTML = '';\n",
              "        dataTable['output_type'] = 'display_data';\n",
              "        await google.colab.output.renderOutput(dataTable, element);\n",
              "        const docLink = document.createElement('div');\n",
              "        docLink.innerHTML = docLinkHtml;\n",
              "        element.appendChild(docLink);\n",
              "      }\n",
              "    </script>\n",
              "  </div>\n",
              "\n",
              "\n",
              "    <div id=\"df-442cf9e9-f242-497c-bf72-0eb6ec0f8095\">\n",
              "      <button class=\"colab-df-quickchart\" onclick=\"quickchart('df-442cf9e9-f242-497c-bf72-0eb6ec0f8095')\"\n",
              "                title=\"Suggest charts\"\n",
              "                style=\"display:none;\">\n",
              "\n",
              "<svg xmlns=\"http://www.w3.org/2000/svg\" height=\"24px\"viewBox=\"0 0 24 24\"\n",
              "     width=\"24px\">\n",
              "    <g>\n",
              "        <path d=\"M19 3H5c-1.1 0-2 .9-2 2v14c0 1.1.9 2 2 2h14c1.1 0 2-.9 2-2V5c0-1.1-.9-2-2-2zM9 17H7v-7h2v7zm4 0h-2V7h2v10zm4 0h-2v-4h2v4z\"/>\n",
              "    </g>\n",
              "</svg>\n",
              "      </button>\n",
              "\n",
              "<style>\n",
              "  .colab-df-quickchart {\n",
              "      --bg-color: #E8F0FE;\n",
              "      --fill-color: #1967D2;\n",
              "      --hover-bg-color: #E2EBFA;\n",
              "      --hover-fill-color: #174EA6;\n",
              "      --disabled-fill-color: #AAA;\n",
              "      --disabled-bg-color: #DDD;\n",
              "  }\n",
              "\n",
              "  [theme=dark] .colab-df-quickchart {\n",
              "      --bg-color: #3B4455;\n",
              "      --fill-color: #D2E3FC;\n",
              "      --hover-bg-color: #434B5C;\n",
              "      --hover-fill-color: #FFFFFF;\n",
              "      --disabled-bg-color: #3B4455;\n",
              "      --disabled-fill-color: #666;\n",
              "  }\n",
              "\n",
              "  .colab-df-quickchart {\n",
              "    background-color: var(--bg-color);\n",
              "    border: none;\n",
              "    border-radius: 50%;\n",
              "    cursor: pointer;\n",
              "    display: none;\n",
              "    fill: var(--fill-color);\n",
              "    height: 32px;\n",
              "    padding: 0;\n",
              "    width: 32px;\n",
              "  }\n",
              "\n",
              "  .colab-df-quickchart:hover {\n",
              "    background-color: var(--hover-bg-color);\n",
              "    box-shadow: 0 1px 2px rgba(60, 64, 67, 0.3), 0 1px 3px 1px rgba(60, 64, 67, 0.15);\n",
              "    fill: var(--button-hover-fill-color);\n",
              "  }\n",
              "\n",
              "  .colab-df-quickchart-complete:disabled,\n",
              "  .colab-df-quickchart-complete:disabled:hover {\n",
              "    background-color: var(--disabled-bg-color);\n",
              "    fill: var(--disabled-fill-color);\n",
              "    box-shadow: none;\n",
              "  }\n",
              "\n",
              "  .colab-df-spinner {\n",
              "    border: 2px solid var(--fill-color);\n",
              "    border-color: transparent;\n",
              "    border-bottom-color: var(--fill-color);\n",
              "    animation:\n",
              "      spin 1s steps(1) infinite;\n",
              "  }\n",
              "\n",
              "  @keyframes spin {\n",
              "    0% {\n",
              "      border-color: transparent;\n",
              "      border-bottom-color: var(--fill-color);\n",
              "      border-left-color: var(--fill-color);\n",
              "    }\n",
              "    20% {\n",
              "      border-color: transparent;\n",
              "      border-left-color: var(--fill-color);\n",
              "      border-top-color: var(--fill-color);\n",
              "    }\n",
              "    30% {\n",
              "      border-color: transparent;\n",
              "      border-left-color: var(--fill-color);\n",
              "      border-top-color: var(--fill-color);\n",
              "      border-right-color: var(--fill-color);\n",
              "    }\n",
              "    40% {\n",
              "      border-color: transparent;\n",
              "      border-right-color: var(--fill-color);\n",
              "      border-top-color: var(--fill-color);\n",
              "    }\n",
              "    60% {\n",
              "      border-color: transparent;\n",
              "      border-right-color: var(--fill-color);\n",
              "    }\n",
              "    80% {\n",
              "      border-color: transparent;\n",
              "      border-right-color: var(--fill-color);\n",
              "      border-bottom-color: var(--fill-color);\n",
              "    }\n",
              "    90% {\n",
              "      border-color: transparent;\n",
              "      border-bottom-color: var(--fill-color);\n",
              "    }\n",
              "  }\n",
              "</style>\n",
              "\n",
              "      <script>\n",
              "        async function quickchart(key) {\n",
              "          const quickchartButtonEl =\n",
              "            document.querySelector('#' + key + ' button');\n",
              "          quickchartButtonEl.disabled = true;  // To prevent multiple clicks.\n",
              "          quickchartButtonEl.classList.add('colab-df-spinner');\n",
              "          try {\n",
              "            const charts = await google.colab.kernel.invokeFunction(\n",
              "                'suggestCharts', [key], {});\n",
              "          } catch (error) {\n",
              "            console.error('Error during call to suggestCharts:', error);\n",
              "          }\n",
              "          quickchartButtonEl.classList.remove('colab-df-spinner');\n",
              "          quickchartButtonEl.classList.add('colab-df-quickchart-complete');\n",
              "        }\n",
              "        (() => {\n",
              "          let quickchartButtonEl =\n",
              "            document.querySelector('#df-442cf9e9-f242-497c-bf72-0eb6ec0f8095 button');\n",
              "          quickchartButtonEl.style.display =\n",
              "            google.colab.kernel.accessAllowed ? 'block' : 'none';\n",
              "        })();\n",
              "      </script>\n",
              "    </div>\n",
              "    </div>\n",
              "  </div>\n"
            ],
            "application/vnd.google.colaboratory.intrinsic+json": {
              "type": "dataframe",
              "variable_name": "jamb",
              "summary": "{\n  \"name\": \"jamb\",\n  \"rows\": 5000,\n  \"fields\": [\n    {\n      \"column\": \"jamb_score\",\n      \"properties\": {\n        \"dtype\": \"number\",\n        \"std\": 47,\n        \"min\": 100,\n        \"max\": 367,\n        \"num_unique_values\": 220,\n        \"samples\": [\n          165,\n          193,\n          127\n        ],\n        \"semantic_type\": \"\",\n        \"description\": \"\"\n      }\n    },\n    {\n      \"column\": \"study_hours_per_week\",\n      \"properties\": {\n        \"dtype\": \"number\",\n        \"std\": 9,\n        \"min\": 0,\n        \"max\": 40,\n        \"num_unique_values\": 41,\n        \"samples\": [\n          17,\n          18,\n          15\n        ],\n        \"semantic_type\": \"\",\n        \"description\": \"\"\n      }\n    },\n    {\n      \"column\": \"attendance_rate\",\n      \"properties\": {\n        \"dtype\": \"number\",\n        \"std\": 9,\n        \"min\": 50,\n        \"max\": 100,\n        \"num_unique_values\": 51,\n        \"samples\": [\n          56,\n          57,\n          55\n        ],\n        \"semantic_type\": \"\",\n        \"description\": \"\"\n      }\n    },\n    {\n      \"column\": \"teacher_quality\",\n      \"properties\": {\n        \"dtype\": \"number\",\n        \"std\": 0,\n        \"min\": 1,\n        \"max\": 5,\n        \"num_unique_values\": 5,\n        \"samples\": [\n          2,\n          5,\n          3\n        ],\n        \"semantic_type\": \"\",\n        \"description\": \"\"\n      }\n    },\n    {\n      \"column\": \"distance_to_school\",\n      \"properties\": {\n        \"dtype\": \"number\",\n        \"std\": 4.820221062837152,\n        \"min\": 0.0,\n        \"max\": 20.0,\n        \"num_unique_values\": 201,\n        \"samples\": [\n          6.6,\n          7.6,\n          10.3\n        ],\n        \"semantic_type\": \"\",\n        \"description\": \"\"\n      }\n    },\n    {\n      \"column\": \"school_type\",\n      \"properties\": {\n        \"dtype\": \"category\",\n        \"num_unique_values\": 2,\n        \"samples\": [\n          \"Private\",\n          \"Public\"\n        ],\n        \"semantic_type\": \"\",\n        \"description\": \"\"\n      }\n    },\n    {\n      \"column\": \"school_location\",\n      \"properties\": {\n        \"dtype\": \"category\",\n        \"num_unique_values\": 2,\n        \"samples\": [\n          \"Rural\",\n          \"Urban\"\n        ],\n        \"semantic_type\": \"\",\n        \"description\": \"\"\n      }\n    },\n    {\n      \"column\": \"extra_tutorials\",\n      \"properties\": {\n        \"dtype\": \"category\",\n        \"num_unique_values\": 2,\n        \"samples\": [\n          \"No\",\n          \"Yes\"\n        ],\n        \"semantic_type\": \"\",\n        \"description\": \"\"\n      }\n    },\n    {\n      \"column\": \"access_to_learning_materials\",\n      \"properties\": {\n        \"dtype\": \"category\",\n        \"num_unique_values\": 2,\n        \"samples\": [\n          \"No\",\n          \"Yes\"\n        ],\n        \"semantic_type\": \"\",\n        \"description\": \"\"\n      }\n    },\n    {\n      \"column\": \"parent_involvement\",\n      \"properties\": {\n        \"dtype\": \"category\",\n        \"num_unique_values\": 3,\n        \"samples\": [\n          \"High\",\n          \"Medium\"\n        ],\n        \"semantic_type\": \"\",\n        \"description\": \"\"\n      }\n    },\n    {\n      \"column\": \"it_knowledge\",\n      \"properties\": {\n        \"dtype\": \"category\",\n        \"num_unique_values\": 3,\n        \"samples\": [\n          \"Medium\",\n          \"High\"\n        ],\n        \"semantic_type\": \"\",\n        \"description\": \"\"\n      }\n    },\n    {\n      \"column\": \"age\",\n      \"properties\": {\n        \"dtype\": \"number\",\n        \"std\": 2,\n        \"min\": 15,\n        \"max\": 22,\n        \"num_unique_values\": 8,\n        \"samples\": [\n          15,\n          19\n        ],\n        \"semantic_type\": \"\",\n        \"description\": \"\"\n      }\n    },\n    {\n      \"column\": \"gender\",\n      \"properties\": {\n        \"dtype\": \"category\",\n        \"num_unique_values\": 2,\n        \"samples\": [\n          \"Female\",\n          \"Male\"\n        ],\n        \"semantic_type\": \"\",\n        \"description\": \"\"\n      }\n    },\n    {\n      \"column\": \"socioeconomic_status\",\n      \"properties\": {\n        \"dtype\": \"category\",\n        \"num_unique_values\": 3,\n        \"samples\": [\n          \"Low\",\n          \"High\"\n        ],\n        \"semantic_type\": \"\",\n        \"description\": \"\"\n      }\n    },\n    {\n      \"column\": \"parent_education_level\",\n      \"properties\": {\n        \"dtype\": \"category\",\n        \"num_unique_values\": 4,\n        \"samples\": [\n          \"Unknown\",\n          \"Secondary\"\n        ],\n        \"semantic_type\": \"\",\n        \"description\": \"\"\n      }\n    },\n    {\n      \"column\": \"assignments_completed\",\n      \"properties\": {\n        \"dtype\": \"number\",\n        \"std\": 0,\n        \"min\": 1,\n        \"max\": 5,\n        \"num_unique_values\": 5,\n        \"samples\": [\n          1,\n          5\n        ],\n        \"semantic_type\": \"\",\n        \"description\": \"\"\n      }\n    }\n  ]\n}"
            }
          },
          "metadata": {},
          "execution_count": 17
        }
      ],
      "source": [
        "jamb.head()"
      ]
    },
    {
      "cell_type": "markdown",
      "id": "89cb02a6",
      "metadata": {
        "id": "89cb02a6"
      },
      "source": [
        "## Проверка гипотез"
      ]
    },
    {
      "cell_type": "markdown",
      "id": "8c3fb98f",
      "metadata": {
        "id": "8c3fb98f"
      },
      "source": [
        "### Верно ли, что студенты, проживающие ближе к месту обучения, сдают экзамены лучше?"
      ]
    },
    {
      "cell_type": "markdown",
      "id": "e2cfe6d0",
      "metadata": {
        "id": "e2cfe6d0"
      },
      "source": [
        "**Предпосылки:**  студенты, которые живут далеко от школы, начинают свой день раньше остальных. Не исключено, что из-за этого они меньше спят и соответственно меньше отдыхают. Утренняя дорога - это нагрузка на организм, которая приводит к снижению уровня энергии, с которой студент начинает учебный день. Из-за этого он может быть менее сконцентрирован и вовлечен в процесс, а значит может и хуже усваивать материал."
      ]
    },
    {
      "cell_type": "markdown",
      "id": "fd69367b",
      "metadata": {
        "id": "fd69367b"
      },
      "source": [
        "Медианное значение расстояния равно 10.0 км, то есть ровно половина студентов проживает на расстоянии менее 10 км от школы, а ровно половина – более. Сделаем срезы на основании этого значения:"
      ]
    },
    {
      "cell_type": "code",
      "execution_count": 18,
      "id": "3538cdd3",
      "metadata": {
        "id": "3538cdd3"
      },
      "outputs": [],
      "source": [
        "distance_less = jamb[jamb['distance_to_school'] <= 10]\n",
        "distance_more = jamb[jamb['distance_to_school'] > 10]"
      ]
    },
    {
      "cell_type": "markdown",
      "id": "c787fb84",
      "metadata": {
        "id": "c787fb84"
      },
      "source": [
        "Чтобы сформулировать гипотезы и выбрать нужный тест, проверим данные на нормальность с помощью теста Шапиро-Уилка:"
      ]
    },
    {
      "cell_type": "code",
      "execution_count": 19,
      "id": "ac3b207a",
      "metadata": {
        "colab": {
          "base_uri": "https://localhost:8080/"
        },
        "id": "ac3b207a",
        "outputId": "6c063ccd-3fe6-44a7-f667-1bfead6b9b7a"
      },
      "outputs": [
        {
          "output_type": "stream",
          "name": "stdout",
          "text": [
            "Для расстояния <=10 км: statistic = 0.9704512878956744, p-value = 1.7251723901474076e-22\n",
            "Для расстояния >10 км:statistic = 0.9645573587805363, p-value = 4.213763940127312e-24\n",
            "Данные в группе c расстоянием не более 10 км до школы не распределены нормально\n",
            "Данные в группе c расстоянием более 10 км до школы не распределены нормально\n"
          ]
        }
      ],
      "source": [
        "# Тест Шапиро-Уилка\n",
        "\n",
        "shapiro_less = st.shapiro(distance_less['jamb_score'])\n",
        "print(f\"Для расстояния <=10 км: statistic = {shapiro_less.statistic}, p-value = {shapiro_less.pvalue}\")\n",
        "\n",
        "shapiro_more = st.shapiro(distance_more['jamb_score'])\n",
        "print(f\"Для расстояния >10 км:statistic = {shapiro_more.statistic}, p-value = {shapiro_more.pvalue}\")\n",
        "\n",
        "alpha = 0.05\n",
        "\n",
        "if shapiro_less.pvalue < alpha:\n",
        "    print(\"Данные в группе c расстоянием не более 10 км до школы не распределены нормально\")\n",
        "else:\n",
        "    print(\"Данные в группе c расстоянием не более 10 км до школы распределены нормально\")\n",
        "\n",
        "if shapiro_more.pvalue < alpha:\n",
        "    print(\"Данные в группе c расстоянием более 10 км до школы не распределены нормально\")\n",
        "else:\n",
        "    print(\"Данные в группе c расстоянием более 10 км до школы распределены нормально\")"
      ]
    },
    {
      "cell_type": "markdown",
      "id": "e6d17570",
      "metadata": {
        "id": "e6d17570"
      },
      "source": [
        "Видим, что данные обеих групп не распределены нормально, поэтому использовать t-тест нежелательно.\n",
        "\n",
        "В таком случае воспользуемся **тестом Манна-Уитни** для сравнения двух независимых групп. Сформулируем гипотезы:"
      ]
    },
    {
      "cell_type": "markdown",
      "id": "c824020f",
      "metadata": {
        "id": "c824020f"
      },
      "source": [
        "**Нулевая гипотеза Н0:** распределения баллов JAMB у студентов, проживающих ≤10 км и >10 км от школы, одинаковы.\n",
        "\n",
        "**Альтернативная правосторонняя гипотеза Н1**: у студентов, которые живут ближе к школе (≤10 км), распределение баллов за экзамен смещено в сторону более высоких значений по сравнению с распределением баллов у студентов, проживающих >10 км от школы."
      ]
    },
    {
      "cell_type": "code",
      "execution_count": 20,
      "id": "dab2fd04",
      "metadata": {
        "colab": {
          "base_uri": "https://localhost:8080/"
        },
        "id": "dab2fd04",
        "outputId": "c24fd6d5-a384-4831-9339-3953f3a2bfbc"
      },
      "outputs": [
        {
          "output_type": "stream",
          "name": "stdout",
          "text": [
            "U-статистика: 3390343.50, p-значение: 8.99400123779393e-08\n",
            "Отвергаем нулевую гипотезу\n"
          ]
        }
      ],
      "source": [
        "# Тест Манна-Уитни для двух независимых выборок\n",
        "\n",
        "alpha = 0.05\n",
        "\n",
        "result = st.mannwhitneyu(distance_less['jamb_score'], distance_more['jamb_score'], alternative='greater')\n",
        "\n",
        "print(f\"U-статистика: {result.statistic:.2f}, p-значение: {result.pvalue}\")\n",
        "\n",
        "if result.pvalue < alpha:\n",
        "      print('Отвергаем нулевую гипотезу')\n",
        "else:\n",
        "      print('Не получилось отвергнуть нулевую гипотезу')"
      ]
    },
    {
      "cell_type": "markdown",
      "id": "bb26d9a9",
      "metadata": {
        "id": "bb26d9a9"
      },
      "source": [
        "📌 **Выводы:**\n",
        "* Результаты теста Манна-Уитни показали статистически значимое различие между баллами JAMB студентов, проживающих на расстоянии менее или равном 10 км от школы, и студентов, проживающих дальше. Р-значение значительно меньше уровня значимости, поэтому можно отвергнуть нулевую гипотезу. Баллы студентов, живущих ближе к школе, статистически выше, чем баллы студентов, живущих на большем расстоянии."
      ]
    },
    {
      "cell_type": "markdown",
      "source": [
        "##Проверка Гипотез (Артём)"
      ],
      "metadata": {
        "id": "oav3QkR7j__4"
      },
      "id": "oav3QkR7j__4"
    },
    {
      "cell_type": "markdown",
      "source": [
        "###**Верно ли, что студенты, обучающиеся в частных школах, имеют более высокие шансы сдать экзамен успешно?**\n",
        "\n",
        "\n",
        "**Предпосылки:**\n",
        "\n",
        "Представьте, что вы член приёмной коммисии. Вы хотите отобрать себе самых умных студентов, чтобы они поднимали ваш инстут в рейтинге лучших: побеждали на международных олимпиадах, писали лучшие научные работы, совершали новые открытия в науке.\n",
        "\n",
        "Вы принимаете в свой институт по резюме, которое, как вы считаете, более полно отражет опыт абитуриента. Кому вы отдадите предпочтение: ученику из частной школы или из государственной?\n",
        "\n",
        "В самом деле, существует некий стереотип: в частных школах качество обучения лучше, чем в государственных. Ведь частные школы берут деньги за индивидуальный подход к обучению, за, более высоквалифицированных и вовлечённых преподавателе, за более качественную инфраструктуру и общее оснащение.\n",
        "\n",
        "В своей гипотезе, на примере имеющейся выборки, я хочу узнать: **Верно ли, что студенты, обучающиеся в частных школах, имеют более высокие шансы сдать экзамен успешно?**\n",
        "\n",
        "\n",
        "**Гипотезы**\n",
        "\n",
        "Н0: Нет разницы между средними баллами JAMB у студентов из государственных и частных школ.\n",
        "\n",
        "Н1: Средний балл JAMB у студентов из частных школ ниже , чем у студентов из государственных."
      ],
      "metadata": {
        "id": "opE9HPCwkIK4"
      },
      "id": "opE9HPCwkIK4"
    },
    {
      "cell_type": "code",
      "source": [
        "from scipy import stats as st\n",
        "# Срезы по типу школы\n",
        "public = jamb[jamb['school_type'] == 'Public']['jamb_score']\n",
        "private = jamb[jamb['school_type'] != 'Public']['jamb_score']\n",
        "\n",
        "# Тест Шапиро-Уилка для проверки нормальности распределения\n",
        "shapiro_public = st.shapiro(public)\n",
        "print(f\"Государственная школа: statistic = {shapiro_public.statistic:.4f}, p-value = {shapiro_public.pvalue:.2e}\")\n",
        "\n",
        "shapiro_private = st.shapiro(private)\n",
        "print(f\"Частная школа: statistic = {shapiro_private.statistic:.4f}, p-value = {shapiro_private.pvalue:.2e}\")\n",
        "\n",
        "alpha = 0.05\n",
        "\n",
        "if shapiro_public.pvalue < alpha:\n",
        "    print(\"Данные в группе с государственными школами не распределены нормально\")\n",
        "else:\n",
        "    print(\"Данные в группе с государственными школами распределены нормально\")\n",
        "\n",
        "if shapiro_private.pvalue < alpha:\n",
        "    print(\"Данные в группе с частными школами не распределены нормально\")\n",
        "else:\n",
        "    print(\"Данные в группе с частными школами распределены нормально\")\n",
        "\n",
        "\n",
        "# Если хотя бы одна группа не нормальна — используем тест Манна-Уитни\n",
        "result = st.mannwhitneyu(private, public, alternative='less')\n",
        "\n",
        "print(f\"\\nU-статистика: {result.statistic:.2f}, p-значение: {result.pvalue:.2e}\")\n",
        "\n",
        "if result.pvalue < alpha:\n",
        "    print('Отвергаем нулевую гипотезу')\n",
        "else:\n",
        "    print('Не получилось отвергнуть нулевую гипотезу')"
      ],
      "metadata": {
        "colab": {
          "base_uri": "https://localhost:8080/"
        },
        "id": "lCLxu0QpkEd5",
        "outputId": "89240ca2-7a70-4898-e96b-9a1120913b69"
      },
      "id": "lCLxu0QpkEd5",
      "execution_count": 23,
      "outputs": [
        {
          "output_type": "stream",
          "name": "stdout",
          "text": [
            "Государственная школа: statistic = 0.9646, p-value = 2.36e-29\n",
            "Частная школа: statistic = 0.9760, p-value = 1.17e-13\n",
            "Данные в группе с государственными школами не распределены нормально\n",
            "Данные в группе с частными школами не распределены нормально\n",
            "\n",
            "U-статистика: 2629333.00, p-значение: 1.00e+00\n",
            "Не получилось отвергнуть нулевую гипотезу\n"
          ]
        }
      ]
    },
    {
      "cell_type": "markdown",
      "source": [
        "Сначала я использую тест Шапиро-Уилка — это статистический тест для проверки нормальности распределения . Он помогает определить, похожи ли данные на нормальное распределение. В данном случае - распределение баллов в частных и государственных школах.\n",
        "\n",
        "Увидев, что распределение не нормально, использую тест Манна-Уитни  — это непараметрический тест , который используется для сравнения двух независимых групп , когда распределение не является нормальным. Вместо сравнения средних значений, как делает t-тест, тест Манна-Уитни сравнивает ранги.\n",
        "\n",
        "Принцип работы:\n",
        "Все значения из обеих групп объединяются.\n",
        "Каждому значению присваивается ранг, где чем выше значение — тем выше ранг.\n",
        "Вычисляется U-статистика , которая говорит о том, насколько сильно перекрываются распределения двух групп.\n",
        "\n",
        "Мы не считаем средние , а просто смотрим, кто чаще получает более высокие баллы.\n",
        "\n",
        "**Выводы:**\n",
        "Анализ показал, что различия в результатах экзамена JAMB между студентами из частных и государственных школ не являются статистически значимыми . Несмотря на то, что выборка по частным школам представлена в достаточном количестве (25.3%), средние баллы этих студентов не превышают результаты студентов из государственных школ. Это может говорить о том, что тип образовательного учреждения не оказывает решающего влияния на итоговый результат при прочих равных условиях."
      ],
      "metadata": {
        "id": "Xa4zBTm3qR7_"
      },
      "id": "Xa4zBTm3qR7_"
    }
  ],
  "metadata": {
    "kernelspec": {
      "display_name": "Python 3 (ipykernel)",
      "language": "python",
      "name": "python3"
    },
    "language_info": {
      "codemirror_mode": {
        "name": "ipython",
        "version": 3
      },
      "file_extension": ".py",
      "mimetype": "text/x-python",
      "name": "python",
      "nbconvert_exporter": "python",
      "pygments_lexer": "ipython3",
      "version": "3.11.5"
    },
    "colab": {
      "provenance": [],
      "collapsed_sections": [
        "f1171810",
        "89cb02a6",
        "8c3fb98f",
        "opE9HPCwkIK4"
      ]
    }
  },
  "nbformat": 4,
  "nbformat_minor": 5
}