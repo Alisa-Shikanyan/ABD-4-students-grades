{
 "cells": [
  {
   "cell_type": "markdown",
   "id": "c53ea452",
   "metadata": {},
   "source": [
    "# Анализ факторов, влияющих на успеваемость студентов"
   ]
  },
  {
   "cell_type": "markdown",
   "id": "f1171810",
   "metadata": {},
   "source": [
    "## Подготовка к работе"
   ]
  },
  {
   "cell_type": "code",
   "execution_count": 1,
   "id": "4bffcb24",
   "metadata": {},
   "outputs": [],
   "source": [
    "# Импорт необходимых для работы библиотек\n",
    "\n",
    "import pandas as pd\n",
    "from scipy import stats as st"
   ]
  },
  {
   "cell_type": "code",
   "execution_count": 2,
   "id": "d6ec8397",
   "metadata": {},
   "outputs": [],
   "source": [
    "# Отключение предупреждений в итоговом отчёте\n",
    "\n",
    "import warnings\n",
    "warnings.filterwarnings('ignore')"
   ]
  },
  {
   "cell_type": "code",
   "execution_count": 3,
   "id": "14f3d7be",
   "metadata": {},
   "outputs": [],
   "source": [
    "# Выгрузка предобработанной версии датасета `jamb` \n",
    "\n",
    "jamb = pd.read_csv('/Users/mimikhailova/ВШЭ/jamb.csv')"
   ]
  },
  {
   "cell_type": "code",
   "execution_count": 4,
   "id": "e1bac032",
   "metadata": {
    "scrolled": true
   },
   "outputs": [
    {
     "data": {
      "text/html": [
       "<div>\n",
       "<style scoped>\n",
       "    .dataframe tbody tr th:only-of-type {\n",
       "        vertical-align: middle;\n",
       "    }\n",
       "\n",
       "    .dataframe tbody tr th {\n",
       "        vertical-align: top;\n",
       "    }\n",
       "\n",
       "    .dataframe thead th {\n",
       "        text-align: right;\n",
       "    }\n",
       "</style>\n",
       "<table border=\"1\" class=\"dataframe\">\n",
       "  <thead>\n",
       "    <tr style=\"text-align: right;\">\n",
       "      <th></th>\n",
       "      <th>jamb_score</th>\n",
       "      <th>study_hours_per_week</th>\n",
       "      <th>attendance_rate</th>\n",
       "      <th>teacher_quality</th>\n",
       "      <th>distance_to_school</th>\n",
       "      <th>school_type</th>\n",
       "      <th>school_location</th>\n",
       "      <th>extra_tutorials</th>\n",
       "      <th>access_to_learning_materials</th>\n",
       "      <th>parent_involvement</th>\n",
       "      <th>it_knowledge</th>\n",
       "      <th>age</th>\n",
       "      <th>gender</th>\n",
       "      <th>socioeconomic_status</th>\n",
       "      <th>parent_education_level</th>\n",
       "      <th>assignments_completed</th>\n",
       "    </tr>\n",
       "  </thead>\n",
       "  <tbody>\n",
       "    <tr>\n",
       "      <th>0</th>\n",
       "      <td>192</td>\n",
       "      <td>22</td>\n",
       "      <td>78</td>\n",
       "      <td>4</td>\n",
       "      <td>12.4</td>\n",
       "      <td>Public</td>\n",
       "      <td>Urban</td>\n",
       "      <td>Yes</td>\n",
       "      <td>Yes</td>\n",
       "      <td>High</td>\n",
       "      <td>Medium</td>\n",
       "      <td>17</td>\n",
       "      <td>Male</td>\n",
       "      <td>Low</td>\n",
       "      <td>Tertiary</td>\n",
       "      <td>2</td>\n",
       "    </tr>\n",
       "    <tr>\n",
       "      <th>1</th>\n",
       "      <td>207</td>\n",
       "      <td>14</td>\n",
       "      <td>88</td>\n",
       "      <td>4</td>\n",
       "      <td>2.7</td>\n",
       "      <td>Public</td>\n",
       "      <td>Rural</td>\n",
       "      <td>No</td>\n",
       "      <td>Yes</td>\n",
       "      <td>High</td>\n",
       "      <td>High</td>\n",
       "      <td>15</td>\n",
       "      <td>Male</td>\n",
       "      <td>High</td>\n",
       "      <td>Unknown</td>\n",
       "      <td>1</td>\n",
       "    </tr>\n",
       "    <tr>\n",
       "      <th>2</th>\n",
       "      <td>182</td>\n",
       "      <td>29</td>\n",
       "      <td>87</td>\n",
       "      <td>2</td>\n",
       "      <td>9.6</td>\n",
       "      <td>Public</td>\n",
       "      <td>Rural</td>\n",
       "      <td>Yes</td>\n",
       "      <td>Yes</td>\n",
       "      <td>High</td>\n",
       "      <td>Medium</td>\n",
       "      <td>20</td>\n",
       "      <td>Female</td>\n",
       "      <td>High</td>\n",
       "      <td>Tertiary</td>\n",
       "      <td>2</td>\n",
       "    </tr>\n",
       "    <tr>\n",
       "      <th>3</th>\n",
       "      <td>210</td>\n",
       "      <td>29</td>\n",
       "      <td>99</td>\n",
       "      <td>2</td>\n",
       "      <td>2.6</td>\n",
       "      <td>Public</td>\n",
       "      <td>Urban</td>\n",
       "      <td>No</td>\n",
       "      <td>Yes</td>\n",
       "      <td>Medium</td>\n",
       "      <td>High</td>\n",
       "      <td>22</td>\n",
       "      <td>Female</td>\n",
       "      <td>Medium</td>\n",
       "      <td>Tertiary</td>\n",
       "      <td>1</td>\n",
       "    </tr>\n",
       "    <tr>\n",
       "      <th>4</th>\n",
       "      <td>199</td>\n",
       "      <td>12</td>\n",
       "      <td>98</td>\n",
       "      <td>3</td>\n",
       "      <td>8.8</td>\n",
       "      <td>Public</td>\n",
       "      <td>Urban</td>\n",
       "      <td>No</td>\n",
       "      <td>Yes</td>\n",
       "      <td>Medium</td>\n",
       "      <td>Medium</td>\n",
       "      <td>22</td>\n",
       "      <td>Female</td>\n",
       "      <td>Medium</td>\n",
       "      <td>Tertiary</td>\n",
       "      <td>1</td>\n",
       "    </tr>\n",
       "  </tbody>\n",
       "</table>\n",
       "</div>"
      ],
      "text/plain": [
       "   jamb_score  study_hours_per_week  attendance_rate  teacher_quality  \\\n",
       "0         192                    22               78                4   \n",
       "1         207                    14               88                4   \n",
       "2         182                    29               87                2   \n",
       "3         210                    29               99                2   \n",
       "4         199                    12               98                3   \n",
       "\n",
       "   distance_to_school school_type school_location extra_tutorials  \\\n",
       "0                12.4      Public           Urban             Yes   \n",
       "1                 2.7      Public           Rural              No   \n",
       "2                 9.6      Public           Rural             Yes   \n",
       "3                 2.6      Public           Urban              No   \n",
       "4                 8.8      Public           Urban              No   \n",
       "\n",
       "  access_to_learning_materials parent_involvement it_knowledge  age  gender  \\\n",
       "0                          Yes               High       Medium   17    Male   \n",
       "1                          Yes               High         High   15    Male   \n",
       "2                          Yes               High       Medium   20  Female   \n",
       "3                          Yes             Medium         High   22  Female   \n",
       "4                          Yes             Medium       Medium   22  Female   \n",
       "\n",
       "  socioeconomic_status parent_education_level  assignments_completed  \n",
       "0                  Low               Tertiary                      2  \n",
       "1                 High                Unknown                      1  \n",
       "2                 High               Tertiary                      2  \n",
       "3               Medium               Tertiary                      1  \n",
       "4               Medium               Tertiary                      1  "
      ]
     },
     "execution_count": 4,
     "metadata": {},
     "output_type": "execute_result"
    }
   ],
   "source": [
    "jamb.head()"
   ]
  },
  {
   "cell_type": "markdown",
   "id": "89cb02a6",
   "metadata": {},
   "source": [
    "## Проверка гипотез"
   ]
  },
  {
   "cell_type": "markdown",
   "id": "4f127cc9",
   "metadata": {},
   "source": [
    "### Можно ли сказать, что экзамен лучше сдают те студенты, чьи родители принимают активное участие в учебном процессе?"
   ]
  },
  {
   "cell_type": "markdown",
   "id": "81f2121b",
   "metadata": {},
   "source": [
    "**Предпосылки:** "
   ]
  },
  {
   "cell_type": "markdown",
   "id": "ee1e742d",
   "metadata": {},
   "source": [
    "**Сформулируем нулевую гипотезу Н0:** средний балл за экзамен JAMB у студентов с высокой вовлеченностью родителей в учебный процесс равен среднему баллу студентов с низкой вовлеченностью родителей в учебный процесс. \n",
    "\n",
    "\n",
    "**Тогда альтернативная правосторонняя гипотеза Н1 будет звучать так:** средний балл за экзамен JAMB у студентов с высокой вовлеченностью родителей в учебный процесс больше среднего балла студентов с низкой вовлеченностью родителей в учебный процесс. "
   ]
  },
  {
   "cell_type": "code",
   "execution_count": 5,
   "id": "cc76078e",
   "metadata": {},
   "outputs": [],
   "source": [
    "# Срезы по уровню вовлеченности родителей в учебный процесс\n",
    "\n",
    "high_involvement = jamb[jamb['parent_involvement'] == 'High']\n",
    "low_involvement = jamb[jamb['parent_involvement'] == 'Low']"
   ]
  },
  {
   "cell_type": "markdown",
   "id": "7e942912",
   "metadata": {},
   "source": [
    "Чтобы выбрать нужный тест для проверки гипотезы, проверим сначала данные на нормальность с помощью теста Шапиро-Уилка:"
   ]
  },
  {
   "cell_type": "code",
   "execution_count": 6,
   "id": "c7bb5222",
   "metadata": {
    "scrolled": true
   },
   "outputs": [
    {
     "name": "stdout",
     "output_type": "stream",
     "text": [
      "Для высокой вовлеченнности: statistic = 0.9843418002128601, p-value = 1.479446565255671e-09\n",
      "Для низкой вовлеченнности:statistic = 0.958748996257782, p-value =1.1650108631937777e-22\n",
      "Данные в группе с высокой вовлеченностью родителей не распределены нормально\n",
      "Данные в группе с низкой вовлеченностью родителей не распределены нормально\n"
     ]
    }
   ],
   "source": [
    "# Тест Шапиро-Уилка \n",
    "\n",
    "shapiro_high = st.shapiro(high_involvement['jamb_score'])\n",
    "print(f\"Для высокой вовлеченнности: statistic = {shapiro_high.statistic}, p-value = {shapiro_high.pvalue}\")\n",
    "\n",
    "shapiro_low = st.shapiro(low_involvement['jamb_score'])\n",
    "print(f\"Для низкой вовлеченнности:statistic = {shapiro_low.statistic}, p-value ={shapiro_low.pvalue}\")\n",
    "\n",
    "alpha = 0.05\n",
    "\n",
    "if shapiro_high.pvalue < alpha:\n",
    "    print(\"Данные в группе с высокой вовлеченностью родителей не распределены нормально\")\n",
    "else:\n",
    "    print(\"Данные в группе с высокой вовлеченностью родителей распределены нормально\")\n",
    "    \n",
    "if shapiro_low.pvalue < alpha:\n",
    "    print(\"Данные в группе с низкой вовлеченностью родителей не распределены нормально\")\n",
    "else:\n",
    "    print(\"Данные в группе с низкой вовлеченностью родителей распределены нормально\")"
   ]
  },
  {
   "cell_type": "markdown",
   "id": "06171955",
   "metadata": {},
   "source": [
    "Видим, что данные групп не распределены нормально, а значит, поэтому использовать t-тест нежелательно. \n",
    "\n",
    "В таком случае воспользуемся **тестом Манна-Уитни** для сравнения двух независимых групп. Переформулируем гипотезы:"
   ]
  },
  {
   "cell_type": "markdown",
   "id": "1a1eef07",
   "metadata": {},
   "source": [
    "**Н0:** распределение баллов за экзамен JAMB у студентов с высокой вовлеченностью родителей в учебный процесс такое же, как у студентов с низкой вовлеченностью родителей в учебный процесс.\n",
    "\n",
    "\n",
    "**Н1:** распределение баллов за экзамен JAMB у студентов с высокой вовлеченностью родителей в учебный процесс смещено в сторону более высоких значений по сравнению с группой низкой вовлеченностью родителей в учебный процесс."
   ]
  },
  {
   "cell_type": "code",
   "execution_count": 7,
   "id": "90eb7769",
   "metadata": {},
   "outputs": [
    {
     "name": "stdout",
     "output_type": "stream",
     "text": [
      "U-статистика: 1313114.50, p-значение: 8.841909442488723e-33\n",
      "Отвергаем нулевую гипотезу\n"
     ]
    }
   ],
   "source": [
    "# Тест Манна-Уитни для двух независимых выборок\n",
    "\n",
    "alpha = 0.05\n",
    "\n",
    "result_1 = st.mannwhitneyu(high_involvement['jamb_score'], low_involvement['jamb_score'], alternative='greater')\n",
    "\n",
    "print(f\"U-статистика: {result_1.statistic:.2f}, p-значение: {result_1.pvalue}\")\n",
    "  \n",
    "if result_1.pvalue < alpha:\n",
    "      print('Отвергаем нулевую гипотезу')\n",
    "else:\n",
    "      print('Не получилось отвергнуть нулевую гипотезу')"
   ]
  },
  {
   "cell_type": "markdown",
   "id": "3e632fc1",
   "metadata": {},
   "source": [
    "📌 **Выводы:**\n",
    "* Результаты теста показали, что разница между группами статистически значима. Есть основания отвергнуть нулевую гипотезу и сделать вывод, что баллы JAMB у студентов с высокой вовлеченностью родителей в учебный процесс статистически выше, чем у студентов с низкой вовлеченностью родителей в учебный процесс."
   ]
  },
  {
   "cell_type": "markdown",
   "id": "8c3fb98f",
   "metadata": {},
   "source": [
    "### Верно ли, что студенты, проживающие ближе к месту обучения, сдают экзамены лучше?"
   ]
  },
  {
   "cell_type": "markdown",
   "id": "e2cfe6d0",
   "metadata": {},
   "source": [
    "**Предпосылки:** "
   ]
  },
  {
   "cell_type": "markdown",
   "id": "fd69367b",
   "metadata": {},
   "source": [
    "Медианное значение расстояния равно 10.0 км, то есть ровно половина студентов проживает на расстоянии менее 10 км от школы, а ровно половина – более. Сделаем срезы на основании этого значения:"
   ]
  },
  {
   "cell_type": "code",
   "execution_count": 8,
   "id": "3538cdd3",
   "metadata": {},
   "outputs": [],
   "source": [
    "distance_less = jamb[jamb['distance_to_school'] <= 10]\n",
    "distance_more = jamb[jamb['distance_to_school'] > 10]"
   ]
  },
  {
   "cell_type": "markdown",
   "id": "c787fb84",
   "metadata": {},
   "source": [
    "Чтобы сформулировать гипотезы и выбрать нужный тест, проверим данные на нормальность с помощью теста Шапиро-Уилка:"
   ]
  },
  {
   "cell_type": "code",
   "execution_count": 9,
   "id": "ac3b207a",
   "metadata": {},
   "outputs": [
    {
     "name": "stdout",
     "output_type": "stream",
     "text": [
      "Для высокой вовлеченнности: statistic = 0.9843418002128601, p-value = 1.479446565255671e-09\n",
      "Для низкой вовлеченнности:statistic = 0.958748996257782, p-value = 1.1650108631937777e-22\n",
      "Данные в группе c расстоянием менее 10 км до школы распределены нормально\n",
      "Данные в группе c расстоянием менее 10 км до школы не распределены нормально\n"
     ]
    }
   ],
   "source": [
    "# Тест Шапиро-Уилка \n",
    "\n",
    "shapiro_less = st.shapiro(distance_less['jamb_score'])\n",
    "print(f\"Для высокой вовлеченнности: statistic = {shapiro_high.statistic}, p-value = {shapiro_high.pvalue}\")\n",
    "\n",
    "shapiro_more = st.shapiro(distance_more['jamb_score'])\n",
    "print(f\"Для низкой вовлеченнности:statistic = {shapiro_low.statistic}, p-value = {shapiro_low.pvalue}\")\n",
    "\n",
    "alpha = 0.05\n",
    "\n",
    "if shapiro_high.pvalue < alpha:\n",
    "    print(\"Данные в группе c расстоянием менее 10 км до школы распределены нормально\")\n",
    "else:\n",
    "    print(\"Данные в группе c расстоянием более 10 км до школы распределены нормально\")\n",
    "    \n",
    "if shapiro_low.pvalue < alpha:\n",
    "    print(\"Данные в группе c расстоянием менее 10 км до школы не распределены нормально\")\n",
    "else:\n",
    "    print(\"Данные в группе c расстоянием более 10 км до школы распределены нормально\")"
   ]
  },
  {
   "cell_type": "markdown",
   "id": "e6d17570",
   "metadata": {},
   "source": [
    "Видим, что данные групп не распределены нормально, а значит, поэтому использовать t-тест нежелательно. \n",
    "\n",
    "В таком случае воспользуемся **тестом Манна-Уитни** для сравнения двух независимых групп. Сформулируем гипотезы:"
   ]
  },
  {
   "cell_type": "markdown",
   "id": "c824020f",
   "metadata": {},
   "source": [
    "**Нулевая гипотеза Н0:** распределения баллов JAMB у студентов, проживающих ≤10 км и >10 км от школы, одинаковы.\n",
    "\n",
    "**Альтернативная правосторонняя гипотеза Н1**: студенты, которые живут ближе к школе (≤10 км), имеют более высокие баллы за экзамен JAMB, чем студенты, живущие дальше (>10 км)."
   ]
  },
  {
   "cell_type": "code",
   "execution_count": 10,
   "id": "dab2fd04",
   "metadata": {},
   "outputs": [
    {
     "name": "stdout",
     "output_type": "stream",
     "text": [
      "U-статистика: 3390343.50, p-значение: 8.841909442488723e-33\n",
      "Отвергаем нулевую гипотезу\n"
     ]
    }
   ],
   "source": [
    "# Тест Манна-Уитни для двух независимых выборок\n",
    "\n",
    "alpha = 0.05\n",
    "\n",
    "result_2 = st.mannwhitneyu(distance_less['jamb_score'], distance_more['jamb_score'], alternative='greater')\n",
    "\n",
    "print(f\"U-статистика: {result_2.statistic:.2f}, p-значение: {result_1.pvalue}\")\n",
    "  \n",
    "if result_1.pvalue < alpha:\n",
    "      print('Отвергаем нулевую гипотезу')\n",
    "else:\n",
    "      print('Не получилось отвергнуть нулевую гипотезу')"
   ]
  },
  {
   "cell_type": "markdown",
   "id": "bb26d9a9",
   "metadata": {},
   "source": [
    "📌 **Выводы:**\n",
    "* Результаты теста Манна-Уитни показали статистически значимое различие между баллами JAMB студентов, проживающих на расстоянии менее или равном 10 км от школы, и студентов, проживающих дальше. Р-значение значительно меньше уровня значимости, поэтому можно отвергнуть нулевую гипотезу. Баллы студентов, живущих ближе к школе, статистически выше, чем баллы студентов, живущих на большем расстоянии."
   ]
  }
 ],
 "metadata": {
  "kernelspec": {
   "display_name": "Python 3 (ipykernel)",
   "language": "python",
   "name": "python3"
  },
  "language_info": {
   "codemirror_mode": {
    "name": "ipython",
    "version": 3
   },
   "file_extension": ".py",
   "mimetype": "text/x-python",
   "name": "python",
   "nbconvert_exporter": "python",
   "pygments_lexer": "ipython3",
   "version": "3.11.5"
  }
 },
 "nbformat": 4,
 "nbformat_minor": 5
}
