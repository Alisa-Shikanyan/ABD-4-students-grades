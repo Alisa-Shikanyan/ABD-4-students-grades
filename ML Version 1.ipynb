{
 "cells": [
  {
   "cell_type": "markdown",
   "id": "c53ea452",
   "metadata": {},
   "source": [
    "# Анализ факторов, влияющих на успеваемость студентов"
   ]
  },
  {
   "cell_type": "markdown",
   "id": "f1171810",
   "metadata": {},
   "source": [
    "## Подготовка к работе"
   ]
  },
  {
   "cell_type": "code",
   "execution_count": 1,
   "id": "4bffcb24",
   "metadata": {},
   "outputs": [],
   "source": [
    "# Импорт необходимых для работы библиотек\n",
    "\n",
    "import pandas as pd\n",
    "import numpy as np\n",
    "import matplotlib.pyplot as plt\n",
    "from scipy import stats as st\n",
    "from sklearn.model_selection import train_test_split\n",
    "from sklearn.preprocessing import StandardScaler\n",
    "from sklearn.linear_model import LinearRegression\n",
    "from sklearn.linear_model import Lasso\n",
    "from sklearn.preprocessing import OneHotEncoder\n",
    "from sklearn.linear_model import Ridge\n",
    "from sklearn.metrics import r2_score, mean_squared_error\n",
    "from sklearn.model_selection import GridSearchCV\n",
    "from sklearn.ensemble import RandomForestClassifier\n",
    "from sklearn.ensemble import GradientBoostingRegressor\n",
    "from sklearn.linear_model import SGDRegressor\n",
    "from sklearn.feature_selection import RFE"
   ]
  },
  {
   "cell_type": "code",
   "execution_count": 2,
   "id": "d6ec8397",
   "metadata": {},
   "outputs": [],
   "source": [
    "# Отключение предупреждений в итоговом отчёте\n",
    "\n",
    "import warnings\n",
    "warnings.filterwarnings('ignore')"
   ]
  },
  {
   "cell_type": "code",
   "execution_count": 3,
   "id": "14f3d7be",
   "metadata": {},
   "outputs": [],
   "source": [
    "# Выгрузка предобработанной версии датасета `jamb` \n",
    "\n",
    "jamb = pd.read_csv('/Users/mimikhailova/ВШЭ/jamb.csv')"
   ]
  },
  {
   "cell_type": "code",
   "execution_count": 4,
   "id": "e1bac032",
   "metadata": {
    "scrolled": true
   },
   "outputs": [
    {
     "data": {
      "text/html": [
       "<div>\n",
       "<style scoped>\n",
       "    .dataframe tbody tr th:only-of-type {\n",
       "        vertical-align: middle;\n",
       "    }\n",
       "\n",
       "    .dataframe tbody tr th {\n",
       "        vertical-align: top;\n",
       "    }\n",
       "\n",
       "    .dataframe thead th {\n",
       "        text-align: right;\n",
       "    }\n",
       "</style>\n",
       "<table border=\"1\" class=\"dataframe\">\n",
       "  <thead>\n",
       "    <tr style=\"text-align: right;\">\n",
       "      <th></th>\n",
       "      <th>jamb_score</th>\n",
       "      <th>study_hours_per_week</th>\n",
       "      <th>attendance_rate</th>\n",
       "      <th>teacher_quality</th>\n",
       "      <th>distance_to_school</th>\n",
       "      <th>school_type</th>\n",
       "      <th>school_location</th>\n",
       "      <th>extra_tutorials</th>\n",
       "      <th>access_to_learning_materials</th>\n",
       "      <th>parent_involvement</th>\n",
       "      <th>it_knowledge</th>\n",
       "      <th>age</th>\n",
       "      <th>gender</th>\n",
       "      <th>socioeconomic_status</th>\n",
       "      <th>parent_education_level</th>\n",
       "      <th>assignments_completed</th>\n",
       "    </tr>\n",
       "  </thead>\n",
       "  <tbody>\n",
       "    <tr>\n",
       "      <th>0</th>\n",
       "      <td>192</td>\n",
       "      <td>22</td>\n",
       "      <td>78</td>\n",
       "      <td>4</td>\n",
       "      <td>12.4</td>\n",
       "      <td>Public</td>\n",
       "      <td>Urban</td>\n",
       "      <td>Yes</td>\n",
       "      <td>Yes</td>\n",
       "      <td>High</td>\n",
       "      <td>Medium</td>\n",
       "      <td>17</td>\n",
       "      <td>Male</td>\n",
       "      <td>Low</td>\n",
       "      <td>Tertiary</td>\n",
       "      <td>2</td>\n",
       "    </tr>\n",
       "    <tr>\n",
       "      <th>1</th>\n",
       "      <td>207</td>\n",
       "      <td>14</td>\n",
       "      <td>88</td>\n",
       "      <td>4</td>\n",
       "      <td>2.7</td>\n",
       "      <td>Public</td>\n",
       "      <td>Rural</td>\n",
       "      <td>No</td>\n",
       "      <td>Yes</td>\n",
       "      <td>High</td>\n",
       "      <td>High</td>\n",
       "      <td>15</td>\n",
       "      <td>Male</td>\n",
       "      <td>High</td>\n",
       "      <td>Unknown</td>\n",
       "      <td>1</td>\n",
       "    </tr>\n",
       "    <tr>\n",
       "      <th>2</th>\n",
       "      <td>182</td>\n",
       "      <td>29</td>\n",
       "      <td>87</td>\n",
       "      <td>2</td>\n",
       "      <td>9.6</td>\n",
       "      <td>Public</td>\n",
       "      <td>Rural</td>\n",
       "      <td>Yes</td>\n",
       "      <td>Yes</td>\n",
       "      <td>High</td>\n",
       "      <td>Medium</td>\n",
       "      <td>20</td>\n",
       "      <td>Female</td>\n",
       "      <td>High</td>\n",
       "      <td>Tertiary</td>\n",
       "      <td>2</td>\n",
       "    </tr>\n",
       "    <tr>\n",
       "      <th>3</th>\n",
       "      <td>210</td>\n",
       "      <td>29</td>\n",
       "      <td>99</td>\n",
       "      <td>2</td>\n",
       "      <td>2.6</td>\n",
       "      <td>Public</td>\n",
       "      <td>Urban</td>\n",
       "      <td>No</td>\n",
       "      <td>Yes</td>\n",
       "      <td>Medium</td>\n",
       "      <td>High</td>\n",
       "      <td>22</td>\n",
       "      <td>Female</td>\n",
       "      <td>Medium</td>\n",
       "      <td>Tertiary</td>\n",
       "      <td>1</td>\n",
       "    </tr>\n",
       "    <tr>\n",
       "      <th>4</th>\n",
       "      <td>199</td>\n",
       "      <td>12</td>\n",
       "      <td>98</td>\n",
       "      <td>3</td>\n",
       "      <td>8.8</td>\n",
       "      <td>Public</td>\n",
       "      <td>Urban</td>\n",
       "      <td>No</td>\n",
       "      <td>Yes</td>\n",
       "      <td>Medium</td>\n",
       "      <td>Medium</td>\n",
       "      <td>22</td>\n",
       "      <td>Female</td>\n",
       "      <td>Medium</td>\n",
       "      <td>Tertiary</td>\n",
       "      <td>1</td>\n",
       "    </tr>\n",
       "  </tbody>\n",
       "</table>\n",
       "</div>"
      ],
      "text/plain": [
       "   jamb_score  study_hours_per_week  attendance_rate  teacher_quality  \\\n",
       "0         192                    22               78                4   \n",
       "1         207                    14               88                4   \n",
       "2         182                    29               87                2   \n",
       "3         210                    29               99                2   \n",
       "4         199                    12               98                3   \n",
       "\n",
       "   distance_to_school school_type school_location extra_tutorials  \\\n",
       "0                12.4      Public           Urban             Yes   \n",
       "1                 2.7      Public           Rural              No   \n",
       "2                 9.6      Public           Rural             Yes   \n",
       "3                 2.6      Public           Urban              No   \n",
       "4                 8.8      Public           Urban              No   \n",
       "\n",
       "  access_to_learning_materials parent_involvement it_knowledge  age  gender  \\\n",
       "0                          Yes               High       Medium   17    Male   \n",
       "1                          Yes               High         High   15    Male   \n",
       "2                          Yes               High       Medium   20  Female   \n",
       "3                          Yes             Medium         High   22  Female   \n",
       "4                          Yes             Medium       Medium   22  Female   \n",
       "\n",
       "  socioeconomic_status parent_education_level  assignments_completed  \n",
       "0                  Low               Tertiary                      2  \n",
       "1                 High                Unknown                      1  \n",
       "2                 High               Tertiary                      2  \n",
       "3               Medium               Tertiary                      1  \n",
       "4               Medium               Tertiary                      1  "
      ]
     },
     "execution_count": 4,
     "metadata": {},
     "output_type": "execute_result"
    }
   ],
   "source": [
    "jamb.head()"
   ]
  },
  {
   "cell_type": "code",
   "execution_count": 5,
   "id": "db8a5772",
   "metadata": {},
   "outputs": [
    {
     "data": {
      "text/plain": [
       "Index(['jamb_score', 'study_hours_per_week', 'attendance_rate',\n",
       "       'teacher_quality', 'distance_to_school', 'school_type',\n",
       "       'school_location', 'extra_tutorials', 'access_to_learning_materials',\n",
       "       'parent_involvement', 'it_knowledge', 'age', 'gender',\n",
       "       'socioeconomic_status', 'parent_education_level',\n",
       "       'assignments_completed'],\n",
       "      dtype='object')"
      ]
     },
     "execution_count": 5,
     "metadata": {},
     "output_type": "execute_result"
    }
   ],
   "source": [
    "jamb.columns"
   ]
  },
  {
   "cell_type": "markdown",
   "id": "89cb02a6",
   "metadata": {},
   "source": [
    "## Построение модели. Оценка качества модели"
   ]
  },
  {
   "cell_type": "markdown",
   "id": "c1033f3e",
   "metadata": {},
   "source": [
    "#### Разделим данные на фичи и таргет:"
   ]
  },
  {
   "cell_type": "code",
   "execution_count": 6,
   "id": "24b0db50",
   "metadata": {},
   "outputs": [],
   "source": [
    "X = jamb.drop(columns=['jamb_score'])\n",
    "y = jamb['jamb_score']"
   ]
  },
  {
   "cell_type": "markdown",
   "id": "33244265",
   "metadata": {},
   "source": [
    "#### Разобьем выборку на обучающую и тестовую в соотношении 80/20: "
   ]
  },
  {
   "cell_type": "code",
   "execution_count": 7,
   "id": "0a12d7e0",
   "metadata": {},
   "outputs": [],
   "source": [
    "X_train, X_test, y_train, y_test = train_test_split(X, y, test_size=0.2, random_state=42)"
   ]
  },
  {
   "cell_type": "markdown",
   "id": "5f1392d3",
   "metadata": {},
   "source": [
    "#### Обучим модель только на вещественных признаках:"
   ]
  },
  {
   "cell_type": "code",
   "execution_count": 8,
   "id": "7fa390d2",
   "metadata": {},
   "outputs": [],
   "source": [
    "X_train_float = X_train.drop(columns=['school_type', 'school_location', 'extra_tutorials', \\\n",
    "                                      'access_to_learning_materials', 'parent_involvement',\\\n",
    "                                     'it_knowledge', 'gender', 'socioeconomic_status', 'parent_education_level'])"
   ]
  },
  {
   "cell_type": "code",
   "execution_count": 9,
   "id": "0b518e47",
   "metadata": {
    "scrolled": true
   },
   "outputs": [
    {
     "data": {
      "text/plain": [
       "(4000, 6)"
      ]
     },
     "execution_count": 9,
     "metadata": {},
     "output_type": "execute_result"
    }
   ],
   "source": [
    "X_train_float.shape"
   ]
  },
  {
   "cell_type": "code",
   "execution_count": 10,
   "id": "63aa8400",
   "metadata": {},
   "outputs": [],
   "source": [
    "X_test_float = X_test.drop(columns=['school_type', 'school_location', 'extra_tutorials', \\\n",
    "                                      'access_to_learning_materials', 'parent_involvement',\\\n",
    "                                     'it_knowledge', 'gender', 'socioeconomic_status', 'parent_education_level']) "
   ]
  },
  {
   "cell_type": "code",
   "execution_count": 11,
   "id": "00bba1eb",
   "metadata": {},
   "outputs": [
    {
     "data": {
      "text/plain": [
       "(1000, 6)"
      ]
     },
     "execution_count": 11,
     "metadata": {},
     "output_type": "execute_result"
    }
   ],
   "source": [
    "X_test_float.shape"
   ]
  },
  {
   "cell_type": "markdown",
   "id": "b5af4bbe",
   "metadata": {},
   "source": [
    "Построим модель линейной регрессии:"
   ]
  },
  {
   "cell_type": "code",
   "execution_count": 12,
   "id": "9ab8f6f3",
   "metadata": {
    "scrolled": true
   },
   "outputs": [
    {
     "name": "stdout",
     "output_type": "stream",
     "text": [
      "MSE LR train: 1595.9340\n",
      "MSE LR test: 1658.6615\n",
      "R2 LR train: 0.2843\n",
      "R2 LR test: 0.3127\n"
     ]
    }
   ],
   "source": [
    "# Стандартизация данных\n",
    "\n",
    "scaler = StandardScaler()\n",
    "scaler.fit(X_train_float)\n",
    "X_train_fl_st = scaler.transform(X_train_float)\n",
    "X_test_fl_st = scaler.transform(X_test_float)\n",
    "\n",
    "# Алгоритм для модели и обучение\n",
    "\n",
    "lr_model = LinearRegression()\n",
    "lr_model.fit(X_train_fl_st, y_train)\n",
    "\n",
    "# Подсчет предсказаний\n",
    "\n",
    "y_pred_lr_st_train = lr_model.predict(X_train_fl_st)\n",
    "y_pred_lr_st_test = lr_model.predict(X_test_fl_st)\n",
    "\n",
    "# Подсчет метрик модели\n",
    "\n",
    "print('MSE LR train: {:.4f}'.format(mean_squared_error(y_train, y_pred_lr_st_train)))\n",
    "print('MSE LR test: {:.4f}'.format(mean_squared_error(y_test, y_pred_lr_st_test)))\n",
    "print('R2 LR train: {:.4f}'.format(r2_score(y_train, y_pred_lr_st_train)))\n",
    "print('R2 LR test: {:.4f}'.format(r2_score(y_test, y_pred_lr_st_test)))"
   ]
  },
  {
   "cell_type": "markdown",
   "id": "fbbceafd",
   "metadata": {},
   "source": [
    "* Качество модели совсем неважное и нужно попробовать его улучшить "
   ]
  },
  {
   "cell_type": "markdown",
   "id": "177aaa92",
   "metadata": {},
   "source": [
    "#### Добавим категориальные фичи, закодировав их с помощью ОНЕ:"
   ]
  },
  {
   "cell_type": "code",
   "execution_count": 13,
   "id": "affecc6f",
   "metadata": {},
   "outputs": [],
   "source": [
    "# Применяем для обучающей выборки \n",
    "\n",
    "ohe = OneHotEncoder(drop='first', sparse=False)\n",
    "\n",
    "X_train_ohe = ohe.fit_transform(X_train[['school_type', 'school_location', 'extra_tutorials',\n",
    "                                           'access_to_learning_materials', 'parent_involvement',\n",
    "                                           'it_knowledge', 'gender', 'socioeconomic_status', 'parent_education_level']])\n",
    "X_train_ohe_df = pd.DataFrame(X_train_ohe, columns=ohe.get_feature_names_out())\n",
    "\n",
    "# Применяем для тестовой выборки \n",
    "\n",
    "X_test_ohe = ohe.transform(X_test[['school_type', 'school_location', 'extra_tutorials',\n",
    "                                     'access_to_learning_materials', 'parent_involvement',\n",
    "                                     'it_knowledge', 'gender', 'socioeconomic_status', 'parent_education_level']])\n",
    "X_test_ohe_df = pd.DataFrame(X_test_ohe, columns=ohe.get_feature_names_out())"
   ]
  },
  {
   "cell_type": "code",
   "execution_count": 14,
   "id": "b996adc9",
   "metadata": {},
   "outputs": [],
   "source": [
    "# Конкатенация\n",
    "\n",
    "X_train_new = pd.concat([X_train[['study_hours_per_week', 'attendance_rate', 'teacher_quality',\n",
    "                                    'distance_to_school', 'age', 'assignments_completed']].reset_index(drop=True), \n",
    "                          X_train_ohe_df.reset_index(drop=True)], axis=1)\n",
    "\n",
    "X_test_new = pd.concat([X_test[['study_hours_per_week', 'attendance_rate', 'teacher_quality',\n",
    "                                    'distance_to_school', 'age', 'assignments_completed']].reset_index(drop=True), \n",
    "                          X_test_ohe_df.reset_index(drop=True)], axis=1)"
   ]
  },
  {
   "cell_type": "markdown",
   "id": "52745816",
   "metadata": {},
   "source": [
    "Вновь построим модель линейной регрессии:"
   ]
  },
  {
   "cell_type": "code",
   "execution_count": 15,
   "id": "053e8bd1",
   "metadata": {},
   "outputs": [
    {
     "name": "stdout",
     "output_type": "stream",
     "text": [
      "MSE LR train with cat: 1474.7224\n",
      "MSE LR test with cat: 1527.2309\n",
      "R2 LR train with cat: 0.3387\n",
      "R2 LR test with cat: 0.3672\n"
     ]
    }
   ],
   "source": [
    "# Стандартизация данных\n",
    "\n",
    "scaler = StandardScaler()\n",
    "scaler.fit(X_train_new)\n",
    "X_train_new_st = scaler.transform(X_train_new)\n",
    "X_test_new_st = scaler.transform(X_test_new)\n",
    "\n",
    "# Алгоритм для модели и обучение\n",
    "\n",
    "lr_model = LinearRegression()\n",
    "lr_model.fit(X_train_new_st, y_train)\n",
    "\n",
    "# Подсчет предсказаний\n",
    "\n",
    "y_pred_new_train = lr_model.predict(X_train_new_st)\n",
    "y_pred_new_test = lr_model.predict(X_test_new_st)\n",
    "\n",
    "# Подсчет метрик модели\n",
    "\n",
    "print('MSE LR train with cat: {:.4f}'.format(mean_squared_error(y_train, y_pred_new_train)))\n",
    "print('MSE LR test with cat: {:.4f}'.format(mean_squared_error(y_test, y_pred_new_test)))\n",
    "print('R2 LR train with cat: {:.4f}'.format(r2_score(y_train, y_pred_new_train)))\n",
    "print('R2 LR test with cat: {:.4f}'.format(r2_score(y_test, y_pred_new_test)))"
   ]
  },
  {
   "cell_type": "markdown",
   "id": "8553ff39",
   "metadata": {},
   "source": [
    "* Стало лучше, но все еще плохо"
   ]
  },
  {
   "cell_type": "markdown",
   "id": "60c55f5d",
   "metadata": {},
   "source": [
    "#### Поработаем над улучшением  модели"
   ]
  },
  {
   "cell_type": "markdown",
   "id": "e48afb8d",
   "metadata": {},
   "source": [
    "* Применим метод регуляризации Lasso с подбором параметра alpha:"
   ]
  },
  {
   "cell_type": "code",
   "execution_count": 16,
   "id": "6258fca4",
   "metadata": {},
   "outputs": [
    {
     "name": "stdout",
     "output_type": "stream",
     "text": [
      "Лучшие параметры: {'alpha': 0.01}\n"
     ]
    }
   ],
   "source": [
    "# Подбор гиперпараметров через GridSearchCV\n",
    "\n",
    "param_grid = {'alpha': [0.01, 0.1, 1, 10, 100]}\n",
    "\n",
    "base_model = Lasso()\n",
    "\n",
    "grid = GridSearchCV(base_model, param_grid, scoring='neg_mean_squared_error', cv=5)\n",
    "grid.fit(X_train_new_st, y_train)\n",
    "\n",
    "print(f'Лучшие параметры: {grid.best_params_}')"
   ]
  },
  {
   "cell_type": "code",
   "execution_count": 17,
   "id": "0955182e",
   "metadata": {},
   "outputs": [
    {
     "name": "stdout",
     "output_type": "stream",
     "text": [
      "MSE lasso train: 1474.7247\n",
      "MSE lasso test: 1527.2569\n",
      "R2 lasso train: 0.3387\n",
      "R2 lasso test: 0.3672\n"
     ]
    }
   ],
   "source": [
    "# Алгоритм модели и обучение\n",
    "\n",
    "lasso_model = Lasso(alpha=0.01)  \n",
    "lasso_model.fit(X_train_new_st, y_train)\n",
    "\n",
    "# Подсчет предсказаний\n",
    "\n",
    "y_pred_train_lasso = lasso_model.predict(X_train_new_st)\n",
    "y_pred_test_lasso = lasso_model.predict(X_test_new_st)\n",
    "\n",
    "# Подсчет метрик модели\n",
    "\n",
    "print('MSE lasso train: {:.4f}'.format(mean_squared_error(y_train, y_pred_train_lasso)))\n",
    "print('MSE lasso test: {:.4f}'.format(mean_squared_error(y_test, y_pred_test_lasso)))\n",
    "print('R2 lasso train: {:.4f}'.format(r2_score(y_train, y_pred_train_lasso)))\n",
    "print('R2 lasso test: {:.4f}'.format(r2_score(y_test, y_pred_test_lasso)))"
   ]
  },
  {
   "cell_type": "markdown",
   "id": "b7b0fc29",
   "metadata": {},
   "source": [
    "* Значимых изменений нет"
   ]
  },
  {
   "cell_type": "markdown",
   "id": "0e655ea4",
   "metadata": {},
   "source": [
    "#### Применим градиентный бустинг, предварительно подобрав парамеры с помощью GridSearchCV"
   ]
  },
  {
   "cell_type": "code",
   "execution_count": 18,
   "id": "82e0eafd",
   "metadata": {},
   "outputs": [
    {
     "name": "stdout",
     "output_type": "stream",
     "text": [
      "Лучшие параметры: {'learning_rate': 0.1, 'max_depth': 3, 'min_samples_split': 2, 'n_estimators': 100}\n"
     ]
    }
   ],
   "source": [
    "# Подбор гиперпараметров через GridSearchCV\n",
    "\n",
    "param_grid = {\n",
    "    'n_estimators': [100, 200],\n",
    "    'learning_rate': [0.01, 0.1],\n",
    "    'max_depth': [3, 5],\n",
    "    'min_samples_split': [2, 5]}\n",
    "\n",
    "base_model = GradientBoostingRegressor(random_state=42)\n",
    "\n",
    "grid = GridSearchCV(base_model, param_grid, scoring='neg_mean_squared_error', cv=5)\n",
    "grid.fit(X_train_new, y_train)\n",
    "\n",
    "print(f'Лучшие параметры: {grid.best_params_}')"
   ]
  },
  {
   "cell_type": "code",
   "execution_count": 19,
   "id": "f3f774df",
   "metadata": {
    "scrolled": false
   },
   "outputs": [
    {
     "name": "stdout",
     "output_type": "stream",
     "text": [
      "MSE GB train: 1312.91\n",
      "MSE GB test: 1598.74\n",
      "R2 GB train: 0.41\n",
      "R2 GB test: 0.34\n"
     ]
    }
   ],
   "source": [
    "# Алгоритм модели и обучение\n",
    "\n",
    "gb_model = GradientBoostingRegressor(random_state=42, learning_rate=0.1, max_depth=3, min_samples_split=2, n_estimators=100)\n",
    "gb_model.fit(X_train_new, y_train)\n",
    "\n",
    "# Подсчет предсказаний\n",
    "\n",
    "y_pred_gb_train = gb_model.predict(X_train_new)\n",
    "y_pred_gb_test = gb_model.predict(X_test_new)\n",
    "\n",
    "# Подсчет метрик модели\n",
    "\n",
    "print('MSE GB train: {:.2f}'.format(mean_squared_error(y_train, y_pred_gb_train)))\n",
    "print('MSE GB test: {:.2f}'.format(mean_squared_error(y_test, y_pred_gb_test)))\n",
    "print('R2 GB train: {:.2f}'.format(r2_score(y_train, y_pred_gb_train)))\n",
    "print('R2 GB test: {:.2f}'.format(r2_score(y_test, y_pred_gb_test)))"
   ]
  },
  {
   "cell_type": "markdown",
   "id": "abd9f065",
   "metadata": {},
   "source": [
    "* Качество снизилось"
   ]
  },
  {
   "cell_type": "markdown",
   "id": "4462d4ad",
   "metadata": {},
   "source": [
    "#### Проанализируем важность признаков c помощью модели Random Forest, которая имеет встроенный метод для оценки:"
   ]
  },
  {
   "cell_type": "code",
   "execution_count": 20,
   "id": "b2cb7d34",
   "metadata": {},
   "outputs": [
    {
     "data": {
      "text/html": [
       "<div>\n",
       "<style scoped>\n",
       "    .dataframe tbody tr th:only-of-type {\n",
       "        vertical-align: middle;\n",
       "    }\n",
       "\n",
       "    .dataframe tbody tr th {\n",
       "        vertical-align: top;\n",
       "    }\n",
       "\n",
       "    .dataframe thead th {\n",
       "        text-align: right;\n",
       "    }\n",
       "</style>\n",
       "<table border=\"1\" class=\"dataframe\">\n",
       "  <thead>\n",
       "    <tr style=\"text-align: right;\">\n",
       "      <th></th>\n",
       "      <th>feature</th>\n",
       "      <th>importance</th>\n",
       "    </tr>\n",
       "  </thead>\n",
       "  <tbody>\n",
       "    <tr>\n",
       "      <th>3</th>\n",
       "      <td>distance_to_school</td>\n",
       "      <td>0.139636</td>\n",
       "    </tr>\n",
       "    <tr>\n",
       "      <th>1</th>\n",
       "      <td>attendance_rate</td>\n",
       "      <td>0.125508</td>\n",
       "    </tr>\n",
       "    <tr>\n",
       "      <th>0</th>\n",
       "      <td>study_hours_per_week</td>\n",
       "      <td>0.122539</td>\n",
       "    </tr>\n",
       "    <tr>\n",
       "      <th>4</th>\n",
       "      <td>age</td>\n",
       "      <td>0.093863</td>\n",
       "    </tr>\n",
       "    <tr>\n",
       "      <th>2</th>\n",
       "      <td>teacher_quality</td>\n",
       "      <td>0.059802</td>\n",
       "    </tr>\n",
       "    <tr>\n",
       "      <th>5</th>\n",
       "      <td>assignments_completed</td>\n",
       "      <td>0.048328</td>\n",
       "    </tr>\n",
       "    <tr>\n",
       "      <th>14</th>\n",
       "      <td>gender_Male</td>\n",
       "      <td>0.037609</td>\n",
       "    </tr>\n",
       "    <tr>\n",
       "      <th>8</th>\n",
       "      <td>extra_tutorials_Yes</td>\n",
       "      <td>0.035439</td>\n",
       "    </tr>\n",
       "    <tr>\n",
       "      <th>7</th>\n",
       "      <td>school_location_Urban</td>\n",
       "      <td>0.035268</td>\n",
       "    </tr>\n",
       "    <tr>\n",
       "      <th>9</th>\n",
       "      <td>access_to_learning_materials_Yes</td>\n",
       "      <td>0.032842</td>\n",
       "    </tr>\n",
       "    <tr>\n",
       "      <th>13</th>\n",
       "      <td>it_knowledge_Medium</td>\n",
       "      <td>0.029879</td>\n",
       "    </tr>\n",
       "    <tr>\n",
       "      <th>11</th>\n",
       "      <td>parent_involvement_Medium</td>\n",
       "      <td>0.029412</td>\n",
       "    </tr>\n",
       "    <tr>\n",
       "      <th>16</th>\n",
       "      <td>socioeconomic_status_Medium</td>\n",
       "      <td>0.028731</td>\n",
       "    </tr>\n",
       "    <tr>\n",
       "      <th>17</th>\n",
       "      <td>parent_education_level_Secondary</td>\n",
       "      <td>0.028638</td>\n",
       "    </tr>\n",
       "    <tr>\n",
       "      <th>6</th>\n",
       "      <td>school_type_Public</td>\n",
       "      <td>0.028124</td>\n",
       "    </tr>\n",
       "    <tr>\n",
       "      <th>12</th>\n",
       "      <td>it_knowledge_Low</td>\n",
       "      <td>0.027881</td>\n",
       "    </tr>\n",
       "    <tr>\n",
       "      <th>10</th>\n",
       "      <td>parent_involvement_Low</td>\n",
       "      <td>0.027619</td>\n",
       "    </tr>\n",
       "    <tr>\n",
       "      <th>15</th>\n",
       "      <td>socioeconomic_status_Low</td>\n",
       "      <td>0.024711</td>\n",
       "    </tr>\n",
       "    <tr>\n",
       "      <th>18</th>\n",
       "      <td>parent_education_level_Tertiary</td>\n",
       "      <td>0.024230</td>\n",
       "    </tr>\n",
       "    <tr>\n",
       "      <th>19</th>\n",
       "      <td>parent_education_level_Unknown</td>\n",
       "      <td>0.019944</td>\n",
       "    </tr>\n",
       "  </tbody>\n",
       "</table>\n",
       "</div>"
      ],
      "text/plain": [
       "                             feature  importance\n",
       "3                 distance_to_school    0.139636\n",
       "1                    attendance_rate    0.125508\n",
       "0               study_hours_per_week    0.122539\n",
       "4                                age    0.093863\n",
       "2                    teacher_quality    0.059802\n",
       "5              assignments_completed    0.048328\n",
       "14                       gender_Male    0.037609\n",
       "8                extra_tutorials_Yes    0.035439\n",
       "7              school_location_Urban    0.035268\n",
       "9   access_to_learning_materials_Yes    0.032842\n",
       "13               it_knowledge_Medium    0.029879\n",
       "11         parent_involvement_Medium    0.029412\n",
       "16       socioeconomic_status_Medium    0.028731\n",
       "17  parent_education_level_Secondary    0.028638\n",
       "6                 school_type_Public    0.028124\n",
       "12                  it_knowledge_Low    0.027881\n",
       "10            parent_involvement_Low    0.027619\n",
       "15          socioeconomic_status_Low    0.024711\n",
       "18   parent_education_level_Tertiary    0.024230\n",
       "19    parent_education_level_Unknown    0.019944"
      ]
     },
     "execution_count": 20,
     "metadata": {},
     "output_type": "execute_result"
    }
   ],
   "source": [
    "# Названия признаков\n",
    "\n",
    "feature_names = X_train_new.columns\n",
    "\n",
    "# Подсчет предсказаний\n",
    "\n",
    "rf_model = RandomForestClassifier(n_estimators=100, random_state=42)\n",
    "rf_model.fit(X_train_new_st, y_train)\n",
    "\n",
    "# Получение важности признаков\n",
    "\n",
    "importances = rf_model.feature_importances_\n",
    "importance_df = pd.DataFrame({'feature': feature_names, 'importance': importances})\n",
    "importance_df.sort_values(by='importance', ascending=False)"
   ]
  },
  {
   "cell_type": "markdown",
   "id": "f1b87981",
   "metadata": {},
   "source": [
    "Выведем топ-10 признаков:"
   ]
  },
  {
   "cell_type": "code",
   "execution_count": 21,
   "id": "cba38bb4",
   "metadata": {},
   "outputs": [
    {
     "data": {
      "text/plain": [
       "['study_hours_per_week',\n",
       " 'attendance_rate',\n",
       " 'teacher_quality',\n",
       " 'distance_to_school',\n",
       " 'age',\n",
       " 'assignments_completed',\n",
       " 'school_type_Public',\n",
       " 'school_location_Urban',\n",
       " 'extra_tutorials_Yes',\n",
       " 'access_to_learning_materials_Yes']"
      ]
     },
     "execution_count": 21,
     "metadata": {},
     "output_type": "execute_result"
    }
   ],
   "source": [
    "top_features = importance_df.head(10)['feature'].tolist()\n",
    "top_features"
   ]
  },
  {
   "cell_type": "markdown",
   "id": "c10c8f89",
   "metadata": {},
   "source": [
    "Обучим модель линейной регрессии на топ-10 признаков:"
   ]
  },
  {
   "cell_type": "code",
   "execution_count": 22,
   "id": "1b17818e",
   "metadata": {},
   "outputs": [
    {
     "name": "stdout",
     "output_type": "stream",
     "text": [
      "MSE LR train top-10: 1582.8187\n",
      "MSE LR test top-10: 1642.1375\n",
      "R2 LR train top-10: 0.2902\n",
      "R2 LR test top-10: 0.3196\n"
     ]
    }
   ],
   "source": [
    "# Отбираем только нужные признаки\n",
    "\n",
    "X_train_top = X_train_new[top_features]\n",
    "X_test_top = X_test_new[top_features]\n",
    "\n",
    "# Стандартизация данных\n",
    "\n",
    "scaler = StandardScaler()\n",
    "scaler.fit(X_train_top)\n",
    "X_train_top_st = scaler.transform(X_train_top)\n",
    "X_test_top_st = scaler.transform(X_test_top)\n",
    "\n",
    "# Алгоритм для модели и обучение\n",
    "\n",
    "lr_model = LinearRegression()\n",
    "lr_model.fit(X_train_top_st, y_train)\n",
    "\n",
    "# Подсчет предсказаний\n",
    "\n",
    "y_pred_top_train = lr_model.predict(X_train_top_st)\n",
    "y_pred_top_test = lr_model.predict(X_test_top_st)\n",
    "\n",
    "# Подсчет метрик модели\n",
    "\n",
    "print('MSE LR train top-10: {:.4f}'.format(mean_squared_error(y_train, y_pred_top_train)))\n",
    "print('MSE LR test top-10: {:.4f}'.format(mean_squared_error(y_test, y_pred_top_test)))\n",
    "print('R2 LR train top-10: {:.4f}'.format(r2_score(y_train, y_pred_top_train)))\n",
    "print('R2 LR test top-10: {:.4f}'.format(r2_score(y_test, y_pred_top_test)))"
   ]
  },
  {
   "cell_type": "markdown",
   "id": "ea318487",
   "metadata": {},
   "source": [
    "* Качество снизилось"
   ]
  }
 ],
 "metadata": {
  "kernelspec": {
   "display_name": "Python 3 (ipykernel)",
   "language": "python",
   "name": "python3"
  },
  "language_info": {
   "codemirror_mode": {
    "name": "ipython",
    "version": 3
   },
   "file_extension": ".py",
   "mimetype": "text/x-python",
   "name": "python",
   "nbconvert_exporter": "python",
   "pygments_lexer": "ipython3",
   "version": "3.11.5"
  }
 },
 "nbformat": 4,
 "nbformat_minor": 5
}
