{
  "cells": [
    {
      "cell_type": "markdown",
      "metadata": {
        "id": "view-in-github",
        "colab_type": "text"
      },
      "source": [
        "<a href=\"https://colab.research.google.com/github/Alisa-Shikanyan/ABD-4-students-grades/blob/main/Hypothesis2.ipynb\" target=\"_parent\"><img src=\"https://colab.research.google.com/assets/colab-badge.svg\" alt=\"Open In Colab\"/></a>"
      ]
    },
    {
      "cell_type": "markdown",
      "id": "c53ea452",
      "metadata": {
        "id": "c53ea452"
      },
      "source": [
        "# Анализ факторов, влияющих на успеваемость студентов"
      ]
    },
    {
      "cell_type": "markdown",
      "id": "f1171810",
      "metadata": {
        "id": "f1171810"
      },
      "source": [
        "## Подготовка к работе"
      ]
    },
    {
      "cell_type": "code",
      "execution_count": 2,
      "id": "4bffcb24",
      "metadata": {
        "id": "4bffcb24"
      },
      "outputs": [],
      "source": [
        "# Импорт необходимых для работы библиотек\n",
        "\n",
        "import pandas as pd\n",
        "from scipy import stats as st\n",
        "import scipy.stats as stats\n",
        "import seaborn as sns\n",
        "import matplotlib.pyplot as plt\n",
        "import numpy as np"
      ]
    },
    {
      "cell_type": "code",
      "execution_count": 3,
      "id": "d6ec8397",
      "metadata": {
        "id": "d6ec8397"
      },
      "outputs": [],
      "source": [
        "# Отключение предупреждений в итоговом отчёте\n",
        "\n",
        "import warnings\n",
        "warnings.filterwarnings('ignore')"
      ]
    },
    {
      "cell_type": "code",
      "execution_count": 4,
      "id": "14f3d7be",
      "metadata": {
        "colab": {
          "base_uri": "https://localhost:8080/",
          "height": 321
        },
        "id": "14f3d7be",
        "outputId": "5393d740-d385-49f2-aeff-1d37eed85bf9"
      },
      "outputs": [
        {
          "output_type": "error",
          "ename": "FileNotFoundError",
          "evalue": "[Errno 2] No such file or directory: '/Users/mimikhailova/ВШЭ/jamb.csv'",
          "traceback": [
            "\u001b[0;31m---------------------------------------------------------------------------\u001b[0m",
            "\u001b[0;31mFileNotFoundError\u001b[0m                         Traceback (most recent call last)",
            "\u001b[0;32m<ipython-input-4-57249763553c>\u001b[0m in \u001b[0;36m<cell line: 0>\u001b[0;34m()\u001b[0m\n\u001b[1;32m      1\u001b[0m \u001b[0;31m# Выгрузка предобработанной версии датасета `jamb`\u001b[0m\u001b[0;34m\u001b[0m\u001b[0;34m\u001b[0m\u001b[0m\n\u001b[1;32m      2\u001b[0m \u001b[0;34m\u001b[0m\u001b[0m\n\u001b[0;32m----> 3\u001b[0;31m \u001b[0mjamb\u001b[0m \u001b[0;34m=\u001b[0m \u001b[0mpd\u001b[0m\u001b[0;34m.\u001b[0m\u001b[0mread_csv\u001b[0m\u001b[0;34m(\u001b[0m\u001b[0;34m'/Users/mimikhailova/ВШЭ/jamb.csv'\u001b[0m\u001b[0;34m)\u001b[0m\u001b[0;34m\u001b[0m\u001b[0;34m\u001b[0m\u001b[0m\n\u001b[0m",
            "\u001b[0;32m/usr/local/lib/python3.11/dist-packages/pandas/io/parsers/readers.py\u001b[0m in \u001b[0;36mread_csv\u001b[0;34m(filepath_or_buffer, sep, delimiter, header, names, index_col, usecols, dtype, engine, converters, true_values, false_values, skipinitialspace, skiprows, skipfooter, nrows, na_values, keep_default_na, na_filter, verbose, skip_blank_lines, parse_dates, infer_datetime_format, keep_date_col, date_parser, date_format, dayfirst, cache_dates, iterator, chunksize, compression, thousands, decimal, lineterminator, quotechar, quoting, doublequote, escapechar, comment, encoding, encoding_errors, dialect, on_bad_lines, delim_whitespace, low_memory, memory_map, float_precision, storage_options, dtype_backend)\u001b[0m\n\u001b[1;32m   1024\u001b[0m     \u001b[0mkwds\u001b[0m\u001b[0;34m.\u001b[0m\u001b[0mupdate\u001b[0m\u001b[0;34m(\u001b[0m\u001b[0mkwds_defaults\u001b[0m\u001b[0;34m)\u001b[0m\u001b[0;34m\u001b[0m\u001b[0;34m\u001b[0m\u001b[0m\n\u001b[1;32m   1025\u001b[0m \u001b[0;34m\u001b[0m\u001b[0m\n\u001b[0;32m-> 1026\u001b[0;31m     \u001b[0;32mreturn\u001b[0m \u001b[0m_read\u001b[0m\u001b[0;34m(\u001b[0m\u001b[0mfilepath_or_buffer\u001b[0m\u001b[0;34m,\u001b[0m \u001b[0mkwds\u001b[0m\u001b[0;34m)\u001b[0m\u001b[0;34m\u001b[0m\u001b[0;34m\u001b[0m\u001b[0m\n\u001b[0m\u001b[1;32m   1027\u001b[0m \u001b[0;34m\u001b[0m\u001b[0m\n\u001b[1;32m   1028\u001b[0m \u001b[0;34m\u001b[0m\u001b[0m\n",
            "\u001b[0;32m/usr/local/lib/python3.11/dist-packages/pandas/io/parsers/readers.py\u001b[0m in \u001b[0;36m_read\u001b[0;34m(filepath_or_buffer, kwds)\u001b[0m\n\u001b[1;32m    618\u001b[0m \u001b[0;34m\u001b[0m\u001b[0m\n\u001b[1;32m    619\u001b[0m     \u001b[0;31m# Create the parser.\u001b[0m\u001b[0;34m\u001b[0m\u001b[0;34m\u001b[0m\u001b[0m\n\u001b[0;32m--> 620\u001b[0;31m     \u001b[0mparser\u001b[0m \u001b[0;34m=\u001b[0m \u001b[0mTextFileReader\u001b[0m\u001b[0;34m(\u001b[0m\u001b[0mfilepath_or_buffer\u001b[0m\u001b[0;34m,\u001b[0m \u001b[0;34m**\u001b[0m\u001b[0mkwds\u001b[0m\u001b[0;34m)\u001b[0m\u001b[0;34m\u001b[0m\u001b[0;34m\u001b[0m\u001b[0m\n\u001b[0m\u001b[1;32m    621\u001b[0m \u001b[0;34m\u001b[0m\u001b[0m\n\u001b[1;32m    622\u001b[0m     \u001b[0;32mif\u001b[0m \u001b[0mchunksize\u001b[0m \u001b[0;32mor\u001b[0m \u001b[0miterator\u001b[0m\u001b[0;34m:\u001b[0m\u001b[0;34m\u001b[0m\u001b[0;34m\u001b[0m\u001b[0m\n",
            "\u001b[0;32m/usr/local/lib/python3.11/dist-packages/pandas/io/parsers/readers.py\u001b[0m in \u001b[0;36m__init__\u001b[0;34m(self, f, engine, **kwds)\u001b[0m\n\u001b[1;32m   1618\u001b[0m \u001b[0;34m\u001b[0m\u001b[0m\n\u001b[1;32m   1619\u001b[0m         \u001b[0mself\u001b[0m\u001b[0;34m.\u001b[0m\u001b[0mhandles\u001b[0m\u001b[0;34m:\u001b[0m \u001b[0mIOHandles\u001b[0m \u001b[0;34m|\u001b[0m \u001b[0;32mNone\u001b[0m \u001b[0;34m=\u001b[0m \u001b[0;32mNone\u001b[0m\u001b[0;34m\u001b[0m\u001b[0;34m\u001b[0m\u001b[0m\n\u001b[0;32m-> 1620\u001b[0;31m         \u001b[0mself\u001b[0m\u001b[0;34m.\u001b[0m\u001b[0m_engine\u001b[0m \u001b[0;34m=\u001b[0m \u001b[0mself\u001b[0m\u001b[0;34m.\u001b[0m\u001b[0m_make_engine\u001b[0m\u001b[0;34m(\u001b[0m\u001b[0mf\u001b[0m\u001b[0;34m,\u001b[0m \u001b[0mself\u001b[0m\u001b[0;34m.\u001b[0m\u001b[0mengine\u001b[0m\u001b[0;34m)\u001b[0m\u001b[0;34m\u001b[0m\u001b[0;34m\u001b[0m\u001b[0m\n\u001b[0m\u001b[1;32m   1621\u001b[0m \u001b[0;34m\u001b[0m\u001b[0m\n\u001b[1;32m   1622\u001b[0m     \u001b[0;32mdef\u001b[0m \u001b[0mclose\u001b[0m\u001b[0;34m(\u001b[0m\u001b[0mself\u001b[0m\u001b[0;34m)\u001b[0m \u001b[0;34m->\u001b[0m \u001b[0;32mNone\u001b[0m\u001b[0;34m:\u001b[0m\u001b[0;34m\u001b[0m\u001b[0;34m\u001b[0m\u001b[0m\n",
            "\u001b[0;32m/usr/local/lib/python3.11/dist-packages/pandas/io/parsers/readers.py\u001b[0m in \u001b[0;36m_make_engine\u001b[0;34m(self, f, engine)\u001b[0m\n\u001b[1;32m   1878\u001b[0m                 \u001b[0;32mif\u001b[0m \u001b[0;34m\"b\"\u001b[0m \u001b[0;32mnot\u001b[0m \u001b[0;32min\u001b[0m \u001b[0mmode\u001b[0m\u001b[0;34m:\u001b[0m\u001b[0;34m\u001b[0m\u001b[0;34m\u001b[0m\u001b[0m\n\u001b[1;32m   1879\u001b[0m                     \u001b[0mmode\u001b[0m \u001b[0;34m+=\u001b[0m \u001b[0;34m\"b\"\u001b[0m\u001b[0;34m\u001b[0m\u001b[0;34m\u001b[0m\u001b[0m\n\u001b[0;32m-> 1880\u001b[0;31m             self.handles = get_handle(\n\u001b[0m\u001b[1;32m   1881\u001b[0m                 \u001b[0mf\u001b[0m\u001b[0;34m,\u001b[0m\u001b[0;34m\u001b[0m\u001b[0;34m\u001b[0m\u001b[0m\n\u001b[1;32m   1882\u001b[0m                 \u001b[0mmode\u001b[0m\u001b[0;34m,\u001b[0m\u001b[0;34m\u001b[0m\u001b[0;34m\u001b[0m\u001b[0m\n",
            "\u001b[0;32m/usr/local/lib/python3.11/dist-packages/pandas/io/common.py\u001b[0m in \u001b[0;36mget_handle\u001b[0;34m(path_or_buf, mode, encoding, compression, memory_map, is_text, errors, storage_options)\u001b[0m\n\u001b[1;32m    871\u001b[0m         \u001b[0;32mif\u001b[0m \u001b[0mioargs\u001b[0m\u001b[0;34m.\u001b[0m\u001b[0mencoding\u001b[0m \u001b[0;32mand\u001b[0m \u001b[0;34m\"b\"\u001b[0m \u001b[0;32mnot\u001b[0m \u001b[0;32min\u001b[0m \u001b[0mioargs\u001b[0m\u001b[0;34m.\u001b[0m\u001b[0mmode\u001b[0m\u001b[0;34m:\u001b[0m\u001b[0;34m\u001b[0m\u001b[0;34m\u001b[0m\u001b[0m\n\u001b[1;32m    872\u001b[0m             \u001b[0;31m# Encoding\u001b[0m\u001b[0;34m\u001b[0m\u001b[0;34m\u001b[0m\u001b[0m\n\u001b[0;32m--> 873\u001b[0;31m             handle = open(\n\u001b[0m\u001b[1;32m    874\u001b[0m                 \u001b[0mhandle\u001b[0m\u001b[0;34m,\u001b[0m\u001b[0;34m\u001b[0m\u001b[0;34m\u001b[0m\u001b[0m\n\u001b[1;32m    875\u001b[0m                 \u001b[0mioargs\u001b[0m\u001b[0;34m.\u001b[0m\u001b[0mmode\u001b[0m\u001b[0;34m,\u001b[0m\u001b[0;34m\u001b[0m\u001b[0;34m\u001b[0m\u001b[0m\n",
            "\u001b[0;31mFileNotFoundError\u001b[0m: [Errno 2] No such file or directory: '/Users/mimikhailova/ВШЭ/jamb.csv'"
          ]
        }
      ],
      "source": [
        "# Выгрузка предобработанной версии датасета `jamb`\n",
        "\n",
        "jamb = pd.read_csv('/Users/mimikhailova/ВШЭ/jamb.csv')"
      ]
    },
    {
      "cell_type": "code",
      "execution_count": null,
      "id": "e1bac032",
      "metadata": {
        "scrolled": true,
        "id": "e1bac032",
        "outputId": "fe95c0a6-e537-48ee-8b78-c16f908b58fa"
      },
      "outputs": [
        {
          "data": {
            "text/html": [
              "<div>\n",
              "<style scoped>\n",
              "    .dataframe tbody tr th:only-of-type {\n",
              "        vertical-align: middle;\n",
              "    }\n",
              "\n",
              "    .dataframe tbody tr th {\n",
              "        vertical-align: top;\n",
              "    }\n",
              "\n",
              "    .dataframe thead th {\n",
              "        text-align: right;\n",
              "    }\n",
              "</style>\n",
              "<table border=\"1\" class=\"dataframe\">\n",
              "  <thead>\n",
              "    <tr style=\"text-align: right;\">\n",
              "      <th></th>\n",
              "      <th>jamb_score</th>\n",
              "      <th>study_hours_per_week</th>\n",
              "      <th>attendance_rate</th>\n",
              "      <th>teacher_quality</th>\n",
              "      <th>distance_to_school</th>\n",
              "      <th>school_type</th>\n",
              "      <th>school_location</th>\n",
              "      <th>extra_tutorials</th>\n",
              "      <th>access_to_learning_materials</th>\n",
              "      <th>parent_involvement</th>\n",
              "      <th>it_knowledge</th>\n",
              "      <th>age</th>\n",
              "      <th>gender</th>\n",
              "      <th>socioeconomic_status</th>\n",
              "      <th>parent_education_level</th>\n",
              "      <th>assignments_completed</th>\n",
              "    </tr>\n",
              "  </thead>\n",
              "  <tbody>\n",
              "    <tr>\n",
              "      <th>0</th>\n",
              "      <td>192</td>\n",
              "      <td>22</td>\n",
              "      <td>78</td>\n",
              "      <td>4</td>\n",
              "      <td>12.4</td>\n",
              "      <td>Public</td>\n",
              "      <td>Urban</td>\n",
              "      <td>Yes</td>\n",
              "      <td>Yes</td>\n",
              "      <td>High</td>\n",
              "      <td>Medium</td>\n",
              "      <td>17</td>\n",
              "      <td>Male</td>\n",
              "      <td>Low</td>\n",
              "      <td>Tertiary</td>\n",
              "      <td>2</td>\n",
              "    </tr>\n",
              "    <tr>\n",
              "      <th>1</th>\n",
              "      <td>207</td>\n",
              "      <td>14</td>\n",
              "      <td>88</td>\n",
              "      <td>4</td>\n",
              "      <td>2.7</td>\n",
              "      <td>Public</td>\n",
              "      <td>Rural</td>\n",
              "      <td>No</td>\n",
              "      <td>Yes</td>\n",
              "      <td>High</td>\n",
              "      <td>High</td>\n",
              "      <td>15</td>\n",
              "      <td>Male</td>\n",
              "      <td>High</td>\n",
              "      <td>Unknown</td>\n",
              "      <td>1</td>\n",
              "    </tr>\n",
              "    <tr>\n",
              "      <th>2</th>\n",
              "      <td>182</td>\n",
              "      <td>29</td>\n",
              "      <td>87</td>\n",
              "      <td>2</td>\n",
              "      <td>9.6</td>\n",
              "      <td>Public</td>\n",
              "      <td>Rural</td>\n",
              "      <td>Yes</td>\n",
              "      <td>Yes</td>\n",
              "      <td>High</td>\n",
              "      <td>Medium</td>\n",
              "      <td>20</td>\n",
              "      <td>Female</td>\n",
              "      <td>High</td>\n",
              "      <td>Tertiary</td>\n",
              "      <td>2</td>\n",
              "    </tr>\n",
              "    <tr>\n",
              "      <th>3</th>\n",
              "      <td>210</td>\n",
              "      <td>29</td>\n",
              "      <td>99</td>\n",
              "      <td>2</td>\n",
              "      <td>2.6</td>\n",
              "      <td>Public</td>\n",
              "      <td>Urban</td>\n",
              "      <td>No</td>\n",
              "      <td>Yes</td>\n",
              "      <td>Medium</td>\n",
              "      <td>High</td>\n",
              "      <td>22</td>\n",
              "      <td>Female</td>\n",
              "      <td>Medium</td>\n",
              "      <td>Tertiary</td>\n",
              "      <td>1</td>\n",
              "    </tr>\n",
              "    <tr>\n",
              "      <th>4</th>\n",
              "      <td>199</td>\n",
              "      <td>12</td>\n",
              "      <td>98</td>\n",
              "      <td>3</td>\n",
              "      <td>8.8</td>\n",
              "      <td>Public</td>\n",
              "      <td>Urban</td>\n",
              "      <td>No</td>\n",
              "      <td>Yes</td>\n",
              "      <td>Medium</td>\n",
              "      <td>Medium</td>\n",
              "      <td>22</td>\n",
              "      <td>Female</td>\n",
              "      <td>Medium</td>\n",
              "      <td>Tertiary</td>\n",
              "      <td>1</td>\n",
              "    </tr>\n",
              "  </tbody>\n",
              "</table>\n",
              "</div>"
            ],
            "text/plain": [
              "   jamb_score  study_hours_per_week  attendance_rate  teacher_quality  \\\n",
              "0         192                    22               78                4   \n",
              "1         207                    14               88                4   \n",
              "2         182                    29               87                2   \n",
              "3         210                    29               99                2   \n",
              "4         199                    12               98                3   \n",
              "\n",
              "   distance_to_school school_type school_location extra_tutorials  \\\n",
              "0                12.4      Public           Urban             Yes   \n",
              "1                 2.7      Public           Rural              No   \n",
              "2                 9.6      Public           Rural             Yes   \n",
              "3                 2.6      Public           Urban              No   \n",
              "4                 8.8      Public           Urban              No   \n",
              "\n",
              "  access_to_learning_materials parent_involvement it_knowledge  age  gender  \\\n",
              "0                          Yes               High       Medium   17    Male   \n",
              "1                          Yes               High         High   15    Male   \n",
              "2                          Yes               High       Medium   20  Female   \n",
              "3                          Yes             Medium         High   22  Female   \n",
              "4                          Yes             Medium       Medium   22  Female   \n",
              "\n",
              "  socioeconomic_status parent_education_level  assignments_completed  \n",
              "0                  Low               Tertiary                      2  \n",
              "1                 High                Unknown                      1  \n",
              "2                 High               Tertiary                      2  \n",
              "3               Medium               Tertiary                      1  \n",
              "4               Medium               Tertiary                      1  "
            ]
          },
          "execution_count": 4,
          "metadata": {},
          "output_type": "execute_result"
        }
      ],
      "source": [
        "jamb.head()"
      ]
    },
    {
      "cell_type": "markdown",
      "id": "89cb02a6",
      "metadata": {
        "id": "89cb02a6"
      },
      "source": [
        "## Проверка гипотез"
      ]
    },
    {
      "cell_type": "markdown",
      "id": "8c3fb98f",
      "metadata": {
        "id": "8c3fb98f"
      },
      "source": [
        "### Верно ли, что студенты, проживающие ближе к месту обучения, сдают экзамены лучше?"
      ]
    },
    {
      "cell_type": "markdown",
      "id": "e2cfe6d0",
      "metadata": {
        "id": "e2cfe6d0"
      },
      "source": [
        "**Предпосылки:**  студенты, которые живут далеко от школы, начинают свой день раньше остальных. Не исключено, что из-за этого они меньше спят и соответственно меньше отдыхают. Утренняя дорога - это нагрузка на организм, которая приводит к снижению уровня энергии, с которой студент начинает учебный день. Из-за этого он может быть менее сконцентрирован и вовлечен в процесс, а значит может и хуже усваивать материал."
      ]
    },
    {
      "cell_type": "markdown",
      "id": "fd69367b",
      "metadata": {
        "id": "fd69367b"
      },
      "source": [
        "Медианное значение расстояния равно 10.0 км, то есть ровно половина студентов проживает на расстоянии менее 10 км от школы, а ровно половина – более. Сделаем срезы на основании этого значения:"
      ]
    },
    {
      "cell_type": "code",
      "execution_count": null,
      "id": "3538cdd3",
      "metadata": {
        "id": "3538cdd3"
      },
      "outputs": [],
      "source": [
        "distance_less = jamb[jamb['distance_to_school'] <= 10]\n",
        "distance_more = jamb[jamb['distance_to_school'] > 10]"
      ]
    },
    {
      "cell_type": "markdown",
      "id": "c787fb84",
      "metadata": {
        "id": "c787fb84"
      },
      "source": [
        "Чтобы сформулировать гипотезы и выбрать нужный тест, проверим данные на нормальность с помощью теста Шапиро-Уилка:"
      ]
    },
    {
      "cell_type": "code",
      "execution_count": null,
      "id": "ac3b207a",
      "metadata": {
        "id": "ac3b207a",
        "outputId": "5a1a7fab-ee5e-4cfc-b9da-b592dc008290"
      },
      "outputs": [
        {
          "name": "stdout",
          "output_type": "stream",
          "text": [
            "Для расстояния <=10 км: statistic = 0.9704516530036926, p-value = 1.7256705906234346e-22\n",
            "Для расстояния >10 км:statistic = 0.9645575284957886, p-value = 4.214185280264293e-24\n",
            "Данные в группе c расстоянием не более 10 км до школы не распределены нормально\n",
            "Данные в группе c расстоянием более 10 км до школы не распределены нормально\n"
          ]
        }
      ],
      "source": [
        "# Тест Шапиро-Уилка\n",
        "\n",
        "shapiro_less = st.shapiro(distance_less['jamb_score'])\n",
        "print(f\"Для расстояния <=10 км: statistic = {shapiro_less.statistic}, p-value = {shapiro_less.pvalue}\")\n",
        "\n",
        "shapiro_more = st.shapiro(distance_more['jamb_score'])\n",
        "print(f\"Для расстояния >10 км:statistic = {shapiro_more.statistic}, p-value = {shapiro_more.pvalue}\")\n",
        "\n",
        "alpha = 0.05\n",
        "\n",
        "if shapiro_less.pvalue < alpha:\n",
        "    print(\"Данные в группе c расстоянием не более 10 км до школы не распределены нормально\")\n",
        "else:\n",
        "    print(\"Данные в группе c расстоянием не более 10 км до школы распределены нормально\")\n",
        "\n",
        "if shapiro_more.pvalue < alpha:\n",
        "    print(\"Данные в группе c расстоянием более 10 км до школы не распределены нормально\")\n",
        "else:\n",
        "    print(\"Данные в группе c расстоянием более 10 км до школы распределены нормально\")"
      ]
    },
    {
      "cell_type": "markdown",
      "id": "e6d17570",
      "metadata": {
        "id": "e6d17570"
      },
      "source": [
        "Видим, что данные обеих групп не распределены нормально, поэтому использовать t-тест нежелательно.\n",
        "\n",
        "В таком случае воспользуемся **тестом Манна-Уитни** для сравнения двух независимых групп. Сформулируем гипотезы:"
      ]
    },
    {
      "cell_type": "markdown",
      "id": "c824020f",
      "metadata": {
        "id": "c824020f"
      },
      "source": [
        "**Нулевая гипотеза Н0:** распределения баллов JAMB у студентов, проживающих ≤10 км и >10 км от школы, одинаковы.\n",
        "\n",
        "**Альтернативная правосторонняя гипотеза Н1**: у студентов, которые живут ближе к школе (≤10 км), распределение баллов за экзамен смещено в сторону более высоких значений по сравнению с распределением баллов у студентов, проживающих >10 км от школы."
      ]
    },
    {
      "cell_type": "code",
      "execution_count": null,
      "id": "dab2fd04",
      "metadata": {
        "id": "dab2fd04",
        "outputId": "72ecc621-151c-42e6-bd9c-1c83aba0c029"
      },
      "outputs": [
        {
          "name": "stdout",
          "output_type": "stream",
          "text": [
            "U-статистика: 3390343.50, p-значение: 8.99400123779393e-08\n",
            "Отвергаем нулевую гипотезу\n"
          ]
        }
      ],
      "source": [
        "# Тест Манна-Уитни для двух независимых выборок\n",
        "\n",
        "alpha = 0.05\n",
        "\n",
        "result = st.mannwhitneyu(distance_less['jamb_score'], distance_more['jamb_score'], alternative='greater')\n",
        "\n",
        "print(f\"U-статистика: {result.statistic:.2f}, p-значение: {result.pvalue}\")\n",
        "\n",
        "if result.pvalue < alpha:\n",
        "      print('Отвергаем нулевую гипотезу')\n",
        "else:\n",
        "      print('Не получилось отвергнуть нулевую гипотезу')"
      ]
    },
    {
      "cell_type": "markdown",
      "id": "bb26d9a9",
      "metadata": {
        "id": "bb26d9a9"
      },
      "source": [
        "📌 **Выводы:**\n",
        "* Результаты теста Манна-Уитни показали статистически значимое различие между баллами JAMB студентов, проживающих на расстоянии менее или равном 10 км от школы, и студентов, проживающих дальше. Р-значение значительно меньше уровня значимости, поэтому можно отвергнуть нулевую гипотезу. Баллы студентов, живущих ближе к школе, статистически выше, чем баллы студентов, живущих на большем расстоянии."
      ]
    },
    {
      "cell_type": "code",
      "source": [
        "# Загрузим файл с данными\n",
        "from google.colab import files\n",
        "uploaded = files.upload()\n",
        "\n",
        "# Чтение CSV-файла\n",
        "df = pd.read_csv(\"jamb.csv\")"
      ],
      "metadata": {
        "colab": {
          "base_uri": "https://localhost:8080/",
          "height": 73
        },
        "id": "391pl-Bzb7EW",
        "outputId": "fc06336b-33a4-49a0-b512-6377f264c045"
      },
      "id": "391pl-Bzb7EW",
      "execution_count": 5,
      "outputs": [
        {
          "output_type": "display_data",
          "data": {
            "text/plain": [
              "<IPython.core.display.HTML object>"
            ],
            "text/html": [
              "\n",
              "     <input type=\"file\" id=\"files-553b9093-fbcf-4ac1-ab2c-c825e03bed7e\" name=\"files[]\" multiple disabled\n",
              "        style=\"border:none\" />\n",
              "     <output id=\"result-553b9093-fbcf-4ac1-ab2c-c825e03bed7e\">\n",
              "      Upload widget is only available when the cell has been executed in the\n",
              "      current browser session. Please rerun this cell to enable.\n",
              "      </output>\n",
              "      <script>// Copyright 2017 Google LLC\n",
              "//\n",
              "// Licensed under the Apache License, Version 2.0 (the \"License\");\n",
              "// you may not use this file except in compliance with the License.\n",
              "// You may obtain a copy of the License at\n",
              "//\n",
              "//      http://www.apache.org/licenses/LICENSE-2.0\n",
              "//\n",
              "// Unless required by applicable law or agreed to in writing, software\n",
              "// distributed under the License is distributed on an \"AS IS\" BASIS,\n",
              "// WITHOUT WARRANTIES OR CONDITIONS OF ANY KIND, either express or implied.\n",
              "// See the License for the specific language governing permissions and\n",
              "// limitations under the License.\n",
              "\n",
              "/**\n",
              " * @fileoverview Helpers for google.colab Python module.\n",
              " */\n",
              "(function(scope) {\n",
              "function span(text, styleAttributes = {}) {\n",
              "  const element = document.createElement('span');\n",
              "  element.textContent = text;\n",
              "  for (const key of Object.keys(styleAttributes)) {\n",
              "    element.style[key] = styleAttributes[key];\n",
              "  }\n",
              "  return element;\n",
              "}\n",
              "\n",
              "// Max number of bytes which will be uploaded at a time.\n",
              "const MAX_PAYLOAD_SIZE = 100 * 1024;\n",
              "\n",
              "function _uploadFiles(inputId, outputId) {\n",
              "  const steps = uploadFilesStep(inputId, outputId);\n",
              "  const outputElement = document.getElementById(outputId);\n",
              "  // Cache steps on the outputElement to make it available for the next call\n",
              "  // to uploadFilesContinue from Python.\n",
              "  outputElement.steps = steps;\n",
              "\n",
              "  return _uploadFilesContinue(outputId);\n",
              "}\n",
              "\n",
              "// This is roughly an async generator (not supported in the browser yet),\n",
              "// where there are multiple asynchronous steps and the Python side is going\n",
              "// to poll for completion of each step.\n",
              "// This uses a Promise to block the python side on completion of each step,\n",
              "// then passes the result of the previous step as the input to the next step.\n",
              "function _uploadFilesContinue(outputId) {\n",
              "  const outputElement = document.getElementById(outputId);\n",
              "  const steps = outputElement.steps;\n",
              "\n",
              "  const next = steps.next(outputElement.lastPromiseValue);\n",
              "  return Promise.resolve(next.value.promise).then((value) => {\n",
              "    // Cache the last promise value to make it available to the next\n",
              "    // step of the generator.\n",
              "    outputElement.lastPromiseValue = value;\n",
              "    return next.value.response;\n",
              "  });\n",
              "}\n",
              "\n",
              "/**\n",
              " * Generator function which is called between each async step of the upload\n",
              " * process.\n",
              " * @param {string} inputId Element ID of the input file picker element.\n",
              " * @param {string} outputId Element ID of the output display.\n",
              " * @return {!Iterable<!Object>} Iterable of next steps.\n",
              " */\n",
              "function* uploadFilesStep(inputId, outputId) {\n",
              "  const inputElement = document.getElementById(inputId);\n",
              "  inputElement.disabled = false;\n",
              "\n",
              "  const outputElement = document.getElementById(outputId);\n",
              "  outputElement.innerHTML = '';\n",
              "\n",
              "  const pickedPromise = new Promise((resolve) => {\n",
              "    inputElement.addEventListener('change', (e) => {\n",
              "      resolve(e.target.files);\n",
              "    });\n",
              "  });\n",
              "\n",
              "  const cancel = document.createElement('button');\n",
              "  inputElement.parentElement.appendChild(cancel);\n",
              "  cancel.textContent = 'Cancel upload';\n",
              "  const cancelPromise = new Promise((resolve) => {\n",
              "    cancel.onclick = () => {\n",
              "      resolve(null);\n",
              "    };\n",
              "  });\n",
              "\n",
              "  // Wait for the user to pick the files.\n",
              "  const files = yield {\n",
              "    promise: Promise.race([pickedPromise, cancelPromise]),\n",
              "    response: {\n",
              "      action: 'starting',\n",
              "    }\n",
              "  };\n",
              "\n",
              "  cancel.remove();\n",
              "\n",
              "  // Disable the input element since further picks are not allowed.\n",
              "  inputElement.disabled = true;\n",
              "\n",
              "  if (!files) {\n",
              "    return {\n",
              "      response: {\n",
              "        action: 'complete',\n",
              "      }\n",
              "    };\n",
              "  }\n",
              "\n",
              "  for (const file of files) {\n",
              "    const li = document.createElement('li');\n",
              "    li.append(span(file.name, {fontWeight: 'bold'}));\n",
              "    li.append(span(\n",
              "        `(${file.type || 'n/a'}) - ${file.size} bytes, ` +\n",
              "        `last modified: ${\n",
              "            file.lastModifiedDate ? file.lastModifiedDate.toLocaleDateString() :\n",
              "                                    'n/a'} - `));\n",
              "    const percent = span('0% done');\n",
              "    li.appendChild(percent);\n",
              "\n",
              "    outputElement.appendChild(li);\n",
              "\n",
              "    const fileDataPromise = new Promise((resolve) => {\n",
              "      const reader = new FileReader();\n",
              "      reader.onload = (e) => {\n",
              "        resolve(e.target.result);\n",
              "      };\n",
              "      reader.readAsArrayBuffer(file);\n",
              "    });\n",
              "    // Wait for the data to be ready.\n",
              "    let fileData = yield {\n",
              "      promise: fileDataPromise,\n",
              "      response: {\n",
              "        action: 'continue',\n",
              "      }\n",
              "    };\n",
              "\n",
              "    // Use a chunked sending to avoid message size limits. See b/62115660.\n",
              "    let position = 0;\n",
              "    do {\n",
              "      const length = Math.min(fileData.byteLength - position, MAX_PAYLOAD_SIZE);\n",
              "      const chunk = new Uint8Array(fileData, position, length);\n",
              "      position += length;\n",
              "\n",
              "      const base64 = btoa(String.fromCharCode.apply(null, chunk));\n",
              "      yield {\n",
              "        response: {\n",
              "          action: 'append',\n",
              "          file: file.name,\n",
              "          data: base64,\n",
              "        },\n",
              "      };\n",
              "\n",
              "      let percentDone = fileData.byteLength === 0 ?\n",
              "          100 :\n",
              "          Math.round((position / fileData.byteLength) * 100);\n",
              "      percent.textContent = `${percentDone}% done`;\n",
              "\n",
              "    } while (position < fileData.byteLength);\n",
              "  }\n",
              "\n",
              "  // All done.\n",
              "  yield {\n",
              "    response: {\n",
              "      action: 'complete',\n",
              "    }\n",
              "  };\n",
              "}\n",
              "\n",
              "scope.google = scope.google || {};\n",
              "scope.google.colab = scope.google.colab || {};\n",
              "scope.google.colab._files = {\n",
              "  _uploadFiles,\n",
              "  _uploadFilesContinue,\n",
              "};\n",
              "})(self);\n",
              "</script> "
            ]
          },
          "metadata": {}
        },
        {
          "output_type": "stream",
          "name": "stdout",
          "text": [
            "Saving jamb.csv to jamb.csv\n"
          ]
        }
      ]
    },
    {
      "cell_type": "code",
      "source": [
        "df.head()"
      ],
      "metadata": {
        "colab": {
          "base_uri": "https://localhost:8080/",
          "height": 226
        },
        "id": "Dh30a4zZcA_h",
        "outputId": "e3214a1c-ff6c-4909-8484-0269d55c9417"
      },
      "id": "Dh30a4zZcA_h",
      "execution_count": 6,
      "outputs": [
        {
          "output_type": "execute_result",
          "data": {
            "text/plain": [
              "   jamb_score  study_hours_per_week  attendance_rate  teacher_quality  \\\n",
              "0         192                    22               78                4   \n",
              "1         207                    14               88                4   \n",
              "2         182                    29               87                2   \n",
              "3         210                    29               99                2   \n",
              "4         199                    12               98                3   \n",
              "\n",
              "   distance_to_school school_type school_location extra_tutorials  \\\n",
              "0                12.4      Public           Urban             Yes   \n",
              "1                 2.7      Public           Rural              No   \n",
              "2                 9.6      Public           Rural             Yes   \n",
              "3                 2.6      Public           Urban              No   \n",
              "4                 8.8      Public           Urban              No   \n",
              "\n",
              "  access_to_learning_materials parent_involvement it_knowledge  age  gender  \\\n",
              "0                          Yes               High       Medium   17    Male   \n",
              "1                          Yes               High         High   15    Male   \n",
              "2                          Yes               High       Medium   20  Female   \n",
              "3                          Yes             Medium         High   22  Female   \n",
              "4                          Yes             Medium       Medium   22  Female   \n",
              "\n",
              "  socioeconomic_status parent_education_level  assignments_completed  \n",
              "0                  Low               Tertiary                      2  \n",
              "1                 High                Unknown                      1  \n",
              "2                 High               Tertiary                      2  \n",
              "3               Medium               Tertiary                      1  \n",
              "4               Medium               Tertiary                      1  "
            ],
            "text/html": [
              "\n",
              "  <div id=\"df-08669df2-de10-4ab3-be36-9542f4c42f90\" class=\"colab-df-container\">\n",
              "    <div>\n",
              "<style scoped>\n",
              "    .dataframe tbody tr th:only-of-type {\n",
              "        vertical-align: middle;\n",
              "    }\n",
              "\n",
              "    .dataframe tbody tr th {\n",
              "        vertical-align: top;\n",
              "    }\n",
              "\n",
              "    .dataframe thead th {\n",
              "        text-align: right;\n",
              "    }\n",
              "</style>\n",
              "<table border=\"1\" class=\"dataframe\">\n",
              "  <thead>\n",
              "    <tr style=\"text-align: right;\">\n",
              "      <th></th>\n",
              "      <th>jamb_score</th>\n",
              "      <th>study_hours_per_week</th>\n",
              "      <th>attendance_rate</th>\n",
              "      <th>teacher_quality</th>\n",
              "      <th>distance_to_school</th>\n",
              "      <th>school_type</th>\n",
              "      <th>school_location</th>\n",
              "      <th>extra_tutorials</th>\n",
              "      <th>access_to_learning_materials</th>\n",
              "      <th>parent_involvement</th>\n",
              "      <th>it_knowledge</th>\n",
              "      <th>age</th>\n",
              "      <th>gender</th>\n",
              "      <th>socioeconomic_status</th>\n",
              "      <th>parent_education_level</th>\n",
              "      <th>assignments_completed</th>\n",
              "    </tr>\n",
              "  </thead>\n",
              "  <tbody>\n",
              "    <tr>\n",
              "      <th>0</th>\n",
              "      <td>192</td>\n",
              "      <td>22</td>\n",
              "      <td>78</td>\n",
              "      <td>4</td>\n",
              "      <td>12.4</td>\n",
              "      <td>Public</td>\n",
              "      <td>Urban</td>\n",
              "      <td>Yes</td>\n",
              "      <td>Yes</td>\n",
              "      <td>High</td>\n",
              "      <td>Medium</td>\n",
              "      <td>17</td>\n",
              "      <td>Male</td>\n",
              "      <td>Low</td>\n",
              "      <td>Tertiary</td>\n",
              "      <td>2</td>\n",
              "    </tr>\n",
              "    <tr>\n",
              "      <th>1</th>\n",
              "      <td>207</td>\n",
              "      <td>14</td>\n",
              "      <td>88</td>\n",
              "      <td>4</td>\n",
              "      <td>2.7</td>\n",
              "      <td>Public</td>\n",
              "      <td>Rural</td>\n",
              "      <td>No</td>\n",
              "      <td>Yes</td>\n",
              "      <td>High</td>\n",
              "      <td>High</td>\n",
              "      <td>15</td>\n",
              "      <td>Male</td>\n",
              "      <td>High</td>\n",
              "      <td>Unknown</td>\n",
              "      <td>1</td>\n",
              "    </tr>\n",
              "    <tr>\n",
              "      <th>2</th>\n",
              "      <td>182</td>\n",
              "      <td>29</td>\n",
              "      <td>87</td>\n",
              "      <td>2</td>\n",
              "      <td>9.6</td>\n",
              "      <td>Public</td>\n",
              "      <td>Rural</td>\n",
              "      <td>Yes</td>\n",
              "      <td>Yes</td>\n",
              "      <td>High</td>\n",
              "      <td>Medium</td>\n",
              "      <td>20</td>\n",
              "      <td>Female</td>\n",
              "      <td>High</td>\n",
              "      <td>Tertiary</td>\n",
              "      <td>2</td>\n",
              "    </tr>\n",
              "    <tr>\n",
              "      <th>3</th>\n",
              "      <td>210</td>\n",
              "      <td>29</td>\n",
              "      <td>99</td>\n",
              "      <td>2</td>\n",
              "      <td>2.6</td>\n",
              "      <td>Public</td>\n",
              "      <td>Urban</td>\n",
              "      <td>No</td>\n",
              "      <td>Yes</td>\n",
              "      <td>Medium</td>\n",
              "      <td>High</td>\n",
              "      <td>22</td>\n",
              "      <td>Female</td>\n",
              "      <td>Medium</td>\n",
              "      <td>Tertiary</td>\n",
              "      <td>1</td>\n",
              "    </tr>\n",
              "    <tr>\n",
              "      <th>4</th>\n",
              "      <td>199</td>\n",
              "      <td>12</td>\n",
              "      <td>98</td>\n",
              "      <td>3</td>\n",
              "      <td>8.8</td>\n",
              "      <td>Public</td>\n",
              "      <td>Urban</td>\n",
              "      <td>No</td>\n",
              "      <td>Yes</td>\n",
              "      <td>Medium</td>\n",
              "      <td>Medium</td>\n",
              "      <td>22</td>\n",
              "      <td>Female</td>\n",
              "      <td>Medium</td>\n",
              "      <td>Tertiary</td>\n",
              "      <td>1</td>\n",
              "    </tr>\n",
              "  </tbody>\n",
              "</table>\n",
              "</div>\n",
              "    <div class=\"colab-df-buttons\">\n",
              "\n",
              "  <div class=\"colab-df-container\">\n",
              "    <button class=\"colab-df-convert\" onclick=\"convertToInteractive('df-08669df2-de10-4ab3-be36-9542f4c42f90')\"\n",
              "            title=\"Convert this dataframe to an interactive table.\"\n",
              "            style=\"display:none;\">\n",
              "\n",
              "  <svg xmlns=\"http://www.w3.org/2000/svg\" height=\"24px\" viewBox=\"0 -960 960 960\">\n",
              "    <path d=\"M120-120v-720h720v720H120Zm60-500h600v-160H180v160Zm220 220h160v-160H400v160Zm0 220h160v-160H400v160ZM180-400h160v-160H180v160Zm440 0h160v-160H620v160ZM180-180h160v-160H180v160Zm440 0h160v-160H620v160Z\"/>\n",
              "  </svg>\n",
              "    </button>\n",
              "\n",
              "  <style>\n",
              "    .colab-df-container {\n",
              "      display:flex;\n",
              "      gap: 12px;\n",
              "    }\n",
              "\n",
              "    .colab-df-convert {\n",
              "      background-color: #E8F0FE;\n",
              "      border: none;\n",
              "      border-radius: 50%;\n",
              "      cursor: pointer;\n",
              "      display: none;\n",
              "      fill: #1967D2;\n",
              "      height: 32px;\n",
              "      padding: 0 0 0 0;\n",
              "      width: 32px;\n",
              "    }\n",
              "\n",
              "    .colab-df-convert:hover {\n",
              "      background-color: #E2EBFA;\n",
              "      box-shadow: 0px 1px 2px rgba(60, 64, 67, 0.3), 0px 1px 3px 1px rgba(60, 64, 67, 0.15);\n",
              "      fill: #174EA6;\n",
              "    }\n",
              "\n",
              "    .colab-df-buttons div {\n",
              "      margin-bottom: 4px;\n",
              "    }\n",
              "\n",
              "    [theme=dark] .colab-df-convert {\n",
              "      background-color: #3B4455;\n",
              "      fill: #D2E3FC;\n",
              "    }\n",
              "\n",
              "    [theme=dark] .colab-df-convert:hover {\n",
              "      background-color: #434B5C;\n",
              "      box-shadow: 0px 1px 3px 1px rgba(0, 0, 0, 0.15);\n",
              "      filter: drop-shadow(0px 1px 2px rgba(0, 0, 0, 0.3));\n",
              "      fill: #FFFFFF;\n",
              "    }\n",
              "  </style>\n",
              "\n",
              "    <script>\n",
              "      const buttonEl =\n",
              "        document.querySelector('#df-08669df2-de10-4ab3-be36-9542f4c42f90 button.colab-df-convert');\n",
              "      buttonEl.style.display =\n",
              "        google.colab.kernel.accessAllowed ? 'block' : 'none';\n",
              "\n",
              "      async function convertToInteractive(key) {\n",
              "        const element = document.querySelector('#df-08669df2-de10-4ab3-be36-9542f4c42f90');\n",
              "        const dataTable =\n",
              "          await google.colab.kernel.invokeFunction('convertToInteractive',\n",
              "                                                    [key], {});\n",
              "        if (!dataTable) return;\n",
              "\n",
              "        const docLinkHtml = 'Like what you see? Visit the ' +\n",
              "          '<a target=\"_blank\" href=https://colab.research.google.com/notebooks/data_table.ipynb>data table notebook</a>'\n",
              "          + ' to learn more about interactive tables.';\n",
              "        element.innerHTML = '';\n",
              "        dataTable['output_type'] = 'display_data';\n",
              "        await google.colab.output.renderOutput(dataTable, element);\n",
              "        const docLink = document.createElement('div');\n",
              "        docLink.innerHTML = docLinkHtml;\n",
              "        element.appendChild(docLink);\n",
              "      }\n",
              "    </script>\n",
              "  </div>\n",
              "\n",
              "\n",
              "    <div id=\"df-9c94b629-919e-41dc-b49f-00d78edef0c8\">\n",
              "      <button class=\"colab-df-quickchart\" onclick=\"quickchart('df-9c94b629-919e-41dc-b49f-00d78edef0c8')\"\n",
              "                title=\"Suggest charts\"\n",
              "                style=\"display:none;\">\n",
              "\n",
              "<svg xmlns=\"http://www.w3.org/2000/svg\" height=\"24px\"viewBox=\"0 0 24 24\"\n",
              "     width=\"24px\">\n",
              "    <g>\n",
              "        <path d=\"M19 3H5c-1.1 0-2 .9-2 2v14c0 1.1.9 2 2 2h14c1.1 0 2-.9 2-2V5c0-1.1-.9-2-2-2zM9 17H7v-7h2v7zm4 0h-2V7h2v10zm4 0h-2v-4h2v4z\"/>\n",
              "    </g>\n",
              "</svg>\n",
              "      </button>\n",
              "\n",
              "<style>\n",
              "  .colab-df-quickchart {\n",
              "      --bg-color: #E8F0FE;\n",
              "      --fill-color: #1967D2;\n",
              "      --hover-bg-color: #E2EBFA;\n",
              "      --hover-fill-color: #174EA6;\n",
              "      --disabled-fill-color: #AAA;\n",
              "      --disabled-bg-color: #DDD;\n",
              "  }\n",
              "\n",
              "  [theme=dark] .colab-df-quickchart {\n",
              "      --bg-color: #3B4455;\n",
              "      --fill-color: #D2E3FC;\n",
              "      --hover-bg-color: #434B5C;\n",
              "      --hover-fill-color: #FFFFFF;\n",
              "      --disabled-bg-color: #3B4455;\n",
              "      --disabled-fill-color: #666;\n",
              "  }\n",
              "\n",
              "  .colab-df-quickchart {\n",
              "    background-color: var(--bg-color);\n",
              "    border: none;\n",
              "    border-radius: 50%;\n",
              "    cursor: pointer;\n",
              "    display: none;\n",
              "    fill: var(--fill-color);\n",
              "    height: 32px;\n",
              "    padding: 0;\n",
              "    width: 32px;\n",
              "  }\n",
              "\n",
              "  .colab-df-quickchart:hover {\n",
              "    background-color: var(--hover-bg-color);\n",
              "    box-shadow: 0 1px 2px rgba(60, 64, 67, 0.3), 0 1px 3px 1px rgba(60, 64, 67, 0.15);\n",
              "    fill: var(--button-hover-fill-color);\n",
              "  }\n",
              "\n",
              "  .colab-df-quickchart-complete:disabled,\n",
              "  .colab-df-quickchart-complete:disabled:hover {\n",
              "    background-color: var(--disabled-bg-color);\n",
              "    fill: var(--disabled-fill-color);\n",
              "    box-shadow: none;\n",
              "  }\n",
              "\n",
              "  .colab-df-spinner {\n",
              "    border: 2px solid var(--fill-color);\n",
              "    border-color: transparent;\n",
              "    border-bottom-color: var(--fill-color);\n",
              "    animation:\n",
              "      spin 1s steps(1) infinite;\n",
              "  }\n",
              "\n",
              "  @keyframes spin {\n",
              "    0% {\n",
              "      border-color: transparent;\n",
              "      border-bottom-color: var(--fill-color);\n",
              "      border-left-color: var(--fill-color);\n",
              "    }\n",
              "    20% {\n",
              "      border-color: transparent;\n",
              "      border-left-color: var(--fill-color);\n",
              "      border-top-color: var(--fill-color);\n",
              "    }\n",
              "    30% {\n",
              "      border-color: transparent;\n",
              "      border-left-color: var(--fill-color);\n",
              "      border-top-color: var(--fill-color);\n",
              "      border-right-color: var(--fill-color);\n",
              "    }\n",
              "    40% {\n",
              "      border-color: transparent;\n",
              "      border-right-color: var(--fill-color);\n",
              "      border-top-color: var(--fill-color);\n",
              "    }\n",
              "    60% {\n",
              "      border-color: transparent;\n",
              "      border-right-color: var(--fill-color);\n",
              "    }\n",
              "    80% {\n",
              "      border-color: transparent;\n",
              "      border-right-color: var(--fill-color);\n",
              "      border-bottom-color: var(--fill-color);\n",
              "    }\n",
              "    90% {\n",
              "      border-color: transparent;\n",
              "      border-bottom-color: var(--fill-color);\n",
              "    }\n",
              "  }\n",
              "</style>\n",
              "\n",
              "      <script>\n",
              "        async function quickchart(key) {\n",
              "          const quickchartButtonEl =\n",
              "            document.querySelector('#' + key + ' button');\n",
              "          quickchartButtonEl.disabled = true;  // To prevent multiple clicks.\n",
              "          quickchartButtonEl.classList.add('colab-df-spinner');\n",
              "          try {\n",
              "            const charts = await google.colab.kernel.invokeFunction(\n",
              "                'suggestCharts', [key], {});\n",
              "          } catch (error) {\n",
              "            console.error('Error during call to suggestCharts:', error);\n",
              "          }\n",
              "          quickchartButtonEl.classList.remove('colab-df-spinner');\n",
              "          quickchartButtonEl.classList.add('colab-df-quickchart-complete');\n",
              "        }\n",
              "        (() => {\n",
              "          let quickchartButtonEl =\n",
              "            document.querySelector('#df-9c94b629-919e-41dc-b49f-00d78edef0c8 button');\n",
              "          quickchartButtonEl.style.display =\n",
              "            google.colab.kernel.accessAllowed ? 'block' : 'none';\n",
              "        })();\n",
              "      </script>\n",
              "    </div>\n",
              "    </div>\n",
              "  </div>\n"
            ],
            "application/vnd.google.colaboratory.intrinsic+json": {
              "type": "dataframe",
              "variable_name": "df",
              "summary": "{\n  \"name\": \"df\",\n  \"rows\": 5000,\n  \"fields\": [\n    {\n      \"column\": \"jamb_score\",\n      \"properties\": {\n        \"dtype\": \"number\",\n        \"std\": 47,\n        \"min\": 100,\n        \"max\": 367,\n        \"num_unique_values\": 220,\n        \"samples\": [\n          165,\n          193,\n          127\n        ],\n        \"semantic_type\": \"\",\n        \"description\": \"\"\n      }\n    },\n    {\n      \"column\": \"study_hours_per_week\",\n      \"properties\": {\n        \"dtype\": \"number\",\n        \"std\": 9,\n        \"min\": 0,\n        \"max\": 40,\n        \"num_unique_values\": 41,\n        \"samples\": [\n          17,\n          18,\n          15\n        ],\n        \"semantic_type\": \"\",\n        \"description\": \"\"\n      }\n    },\n    {\n      \"column\": \"attendance_rate\",\n      \"properties\": {\n        \"dtype\": \"number\",\n        \"std\": 9,\n        \"min\": 50,\n        \"max\": 100,\n        \"num_unique_values\": 51,\n        \"samples\": [\n          56,\n          57,\n          55\n        ],\n        \"semantic_type\": \"\",\n        \"description\": \"\"\n      }\n    },\n    {\n      \"column\": \"teacher_quality\",\n      \"properties\": {\n        \"dtype\": \"number\",\n        \"std\": 0,\n        \"min\": 1,\n        \"max\": 5,\n        \"num_unique_values\": 5,\n        \"samples\": [\n          2,\n          5,\n          3\n        ],\n        \"semantic_type\": \"\",\n        \"description\": \"\"\n      }\n    },\n    {\n      \"column\": \"distance_to_school\",\n      \"properties\": {\n        \"dtype\": \"number\",\n        \"std\": 4.820221062837152,\n        \"min\": 0.0,\n        \"max\": 20.0,\n        \"num_unique_values\": 201,\n        \"samples\": [\n          6.6,\n          7.6,\n          10.3\n        ],\n        \"semantic_type\": \"\",\n        \"description\": \"\"\n      }\n    },\n    {\n      \"column\": \"school_type\",\n      \"properties\": {\n        \"dtype\": \"category\",\n        \"num_unique_values\": 2,\n        \"samples\": [\n          \"Private\",\n          \"Public\"\n        ],\n        \"semantic_type\": \"\",\n        \"description\": \"\"\n      }\n    },\n    {\n      \"column\": \"school_location\",\n      \"properties\": {\n        \"dtype\": \"category\",\n        \"num_unique_values\": 2,\n        \"samples\": [\n          \"Rural\",\n          \"Urban\"\n        ],\n        \"semantic_type\": \"\",\n        \"description\": \"\"\n      }\n    },\n    {\n      \"column\": \"extra_tutorials\",\n      \"properties\": {\n        \"dtype\": \"category\",\n        \"num_unique_values\": 2,\n        \"samples\": [\n          \"No\",\n          \"Yes\"\n        ],\n        \"semantic_type\": \"\",\n        \"description\": \"\"\n      }\n    },\n    {\n      \"column\": \"access_to_learning_materials\",\n      \"properties\": {\n        \"dtype\": \"category\",\n        \"num_unique_values\": 2,\n        \"samples\": [\n          \"No\",\n          \"Yes\"\n        ],\n        \"semantic_type\": \"\",\n        \"description\": \"\"\n      }\n    },\n    {\n      \"column\": \"parent_involvement\",\n      \"properties\": {\n        \"dtype\": \"category\",\n        \"num_unique_values\": 3,\n        \"samples\": [\n          \"High\",\n          \"Medium\"\n        ],\n        \"semantic_type\": \"\",\n        \"description\": \"\"\n      }\n    },\n    {\n      \"column\": \"it_knowledge\",\n      \"properties\": {\n        \"dtype\": \"category\",\n        \"num_unique_values\": 3,\n        \"samples\": [\n          \"Medium\",\n          \"High\"\n        ],\n        \"semantic_type\": \"\",\n        \"description\": \"\"\n      }\n    },\n    {\n      \"column\": \"age\",\n      \"properties\": {\n        \"dtype\": \"number\",\n        \"std\": 2,\n        \"min\": 15,\n        \"max\": 22,\n        \"num_unique_values\": 8,\n        \"samples\": [\n          15,\n          19\n        ],\n        \"semantic_type\": \"\",\n        \"description\": \"\"\n      }\n    },\n    {\n      \"column\": \"gender\",\n      \"properties\": {\n        \"dtype\": \"category\",\n        \"num_unique_values\": 2,\n        \"samples\": [\n          \"Female\",\n          \"Male\"\n        ],\n        \"semantic_type\": \"\",\n        \"description\": \"\"\n      }\n    },\n    {\n      \"column\": \"socioeconomic_status\",\n      \"properties\": {\n        \"dtype\": \"category\",\n        \"num_unique_values\": 3,\n        \"samples\": [\n          \"Low\",\n          \"High\"\n        ],\n        \"semantic_type\": \"\",\n        \"description\": \"\"\n      }\n    },\n    {\n      \"column\": \"parent_education_level\",\n      \"properties\": {\n        \"dtype\": \"category\",\n        \"num_unique_values\": 4,\n        \"samples\": [\n          \"Unknown\",\n          \"Secondary\"\n        ],\n        \"semantic_type\": \"\",\n        \"description\": \"\"\n      }\n    },\n    {\n      \"column\": \"assignments_completed\",\n      \"properties\": {\n        \"dtype\": \"number\",\n        \"std\": 0,\n        \"min\": 1,\n        \"max\": 5,\n        \"num_unique_values\": 5,\n        \"samples\": [\n          1,\n          5\n        ],\n        \"semantic_type\": \"\",\n        \"description\": \"\"\n      }\n    }\n  ]\n}"
            }
          },
          "metadata": {},
          "execution_count": 6
        }
      ]
    },
    {
      "cell_type": "markdown",
      "source": [
        "**Гипотеза 2:**\n",
        "Мужчины и женщины демонстрируют статистически значимые различия в успеваемости, выраженные через количество выполненных заданий (assignments_completed), при этом мужчины тратят больше времени на обучение (study_hours_per_week), но женщины показывают более высокую посещаемость (attendance_rate) и чаще используют дополнительные ресурсы (access_to_learning_materials)."
      ],
      "metadata": {
        "id": "98sJaTyzcP7f"
      },
      "id": "98sJaTyzcP7f"
    },
    {
      "cell_type": "markdown",
      "source": [
        "**Предпосылки:**\n",
        "1. Социальные факторы : Традиционно считается, что девушки склонны к более дисциплинированному подходу к учебе, что может проявляться в более высокой посещаемости и регулярности выполнения домашних заданий.\n",
        "2. Разница в мотивации и поведении : Мужчины могут уделять больше внимания самообразованию вне формальной системы (например, самостоятельное изучение предметов), что может отражаться в большем количестве часов, потраченных на учебу.\n",
        "3. Доступ к ресурсам : Женщины могут быть более активными в использовании доступных материалов, поскольку они чаще зависят от структурированных методов обучения.\n",
        "4. Успех в образовании : Некоторые исследования показывают, что женщины имеют тенденцию к лучшей успеваемости в школах, особенно в гуманитарных и социальных науках, что может коррелировать с числом выполненных заданий."
      ],
      "metadata": {
        "id": "XActVNiLcZzc"
      },
      "id": "XActVNiLcZzc"
    },
    {
      "cell_type": "code",
      "source": [
        "# Разделение данных по полу\n",
        "male_assignments = df[df['gender'] == 'Male']['assignments_completed']\n",
        "female_assignments = df[df['gender'] == 'Female']['assignments_completed']\n",
        "\n",
        "# Проверка нормальности распределения\n",
        "def check_normality(data):\n",
        "    stat, p = stats.shapiro(data)\n",
        "    return p > 0.05  # Если p > 0.05, то нормальное распределение\n",
        "\n",
        "is_male_normal = check_normality(male_assignments)\n",
        "is_female_normal = check_normality(female_assignments)\n",
        "\n",
        "print(\"Нормальность для мужчин:\", is_male_normal)\n",
        "print(\"Нормальность для женщин:\", is_female_normal)\n",
        "\n",
        "# График распределения\n",
        "sns.histplot(male_assignments, kde=True, label='Male', color='blue')\n",
        "sns.histplot(female_assignments, kde=True, label='Female', color='red')\n",
        "plt.title('Распределение выполненных заданий по полу')\n",
        "plt.legend()\n",
        "plt.show()"
      ],
      "metadata": {
        "colab": {
          "base_uri": "https://localhost:8080/",
          "height": 507
        },
        "id": "PiuR1l0bcJ7M",
        "outputId": "a663de38-c118-4a74-c352-07f40c40162f"
      },
      "id": "PiuR1l0bcJ7M",
      "execution_count": 7,
      "outputs": [
        {
          "output_type": "stream",
          "name": "stdout",
          "text": [
            "Нормальность для мужчин: False\n",
            "Нормальность для женщин: False\n"
          ]
        },
        {
          "output_type": "display_data",
          "data": {
            "text/plain": [
              "<Figure size 640x480 with 1 Axes>"
            ],
            "image/png": "[encoded data removed]"
          },
          "metadata": {}
        }
      ]
    },
    {
      "cell_type": "code",
      "source": [
        "# Выбор теста\n",
        "if is_male_normal and is_female_normal:\n",
        "    # T-тест\n",
        "    t_stat, p_val = stats.ttest_ind(male_assignments, female_assignments, equal_var=False)\n",
        "    print(f\"✅ T-тест: t={t_stat:.3f}, p={p_val:.3f}\")\n",
        "else:\n",
        "    # Тест Манна-Уитни\n",
        "    u_stat, p_val = stats.mannwhitneyu(male_assignments, female_assignments)\n",
        "    print(f\"✅ Тест Манна-Уитни: U={u_stat:.3f}, p={p_val:.3f}\")\n",
        "\n",
        "# Интерпретация результата\n",
        "alpha = 0.05\n",
        "if p_val < alpha:\n",
        "    print(\"🔹 Отвергаем нулевую гипотезу: есть значимая разница между полами.\")\n",
        "else:\n",
        "    print(\"🔸 Не отвергаем нулевую гипотезу: разница не является статистически значимой.\")"
      ],
      "metadata": {
        "colab": {
          "base_uri": "https://localhost:8080/"
        },
        "id": "jm9So6oYcu8M",
        "outputId": "f4e26818-603c-43de-9e9c-cf3a1ae92c7c"
      },
      "id": "jm9So6oYcu8M",
      "execution_count": 8,
      "outputs": [
        {
          "output_type": "stream",
          "name": "stdout",
          "text": [
            "✅ Тест Манна-Уитни: U=3098038.000, p=0.572\n",
            "🔸 Не отвергаем нулевую гипотезу: разница не является статистически значимой.\n"
          ]
        }
      ]
    },
    {
      "cell_type": "markdown",
      "source": [
        "p = 0.572 — это значение больше стандартного уровня значимости α = 0.05 .\n",
        "Это означает, что разница между мужчинами и женщинами в количестве выполненных заданий (assignments_completed) :\n",
        "Не является статистически значимой ,\n",
        "То есть мы не можем утверждать , что различия, если они есть, вызваны полом.\n"
      ],
      "metadata": {
        "id": "aUJIG3WqdO16"
      },
      "id": "aUJIG3WqdO16"
    },
    {
      "cell_type": "code",
      "source": [
        "# Сравнение study_hours_per_week\n",
        "male_study = df[df['gender'] == 'Male']['study_hours_per_week']\n",
        "female_study = df[df['gender'] == 'Female']['study_hours_per_week']\n",
        "\n",
        "# Сравнение attendance_rate\n",
        "male_attendance = df[df['gender'] == 'Male']['attendance_rate']\n",
        "female_attendance = df[df['gender'] == 'Female']['attendance_rate']\n",
        "\n",
        "# Сравнение access_to_learning_materials\n",
        "male_access = df[df['gender'] == 'Male']['access_to_learning_materials'].map({'Yes': 1, 'No': 0})\n",
        "female_access = df[df['gender'] == 'Female']['access_to_learning_materials'].map({'Yes': 1, 'No': 0})\n",
        "\n",
        "# Пример: сравнение часов обучения\n",
        "print(\"\\nСравнение времени на обучение:\")\n",
        "if check_normality(male_study) and check_normality(female_study):\n",
        "    t_stat, p_val = stats.ttest_ind(male_study, female_study)\n",
        "else:\n",
        "    u_stat, p_val = stats.mannwhitneyu(male_study, female_study)\n",
        "print(f\"p = {p_val:.3f}\")"
      ],
      "metadata": {
        "colab": {
          "base_uri": "https://localhost:8080/"
        },
        "id": "vfhX_y3mc2TZ",
        "outputId": "a6a19cea-7769-4bab-e115-e96961cf7a41"
      },
      "id": "vfhX_y3mc2TZ",
      "execution_count": 9,
      "outputs": [
        {
          "output_type": "stream",
          "name": "stdout",
          "text": [
            "\n",
            "Сравнение времени на обучение:\n",
            "p = 0.441\n"
          ]
        }
      ]
    },
    {
      "cell_type": "markdown",
      "source": [
        "Анализ показал, что различие в количестве часов, потраченных на учебу, между мужчинами и женщинами не является статистически значимым (p = 0.441). Таким образом, на основе имеющихся данных нельзя утверждать, что пол ученика влияет на продолжительность самостоятельной работы над учебным материалом."
      ],
      "metadata": {
        "id": "KVR0DrcYdmbt"
      },
      "id": "KVR0DrcYdmbt"
    },
    {
      "cell_type": "code",
      "source": [],
      "metadata": {
        "id": "aUsfmhe2c--X"
      },
      "id": "aUsfmhe2c--X",
      "execution_count": null,
      "outputs": []
    }
  ],
  "metadata": {
    "kernelspec": {
      "display_name": "Python 3 (ipykernel)",
      "language": "python",
      "name": "python3"
    },
    "language_info": {
      "codemirror_mode": {
        "name": "ipython",
        "version": 3
      },
      "file_extension": ".py",
      "mimetype": "text/x-python",
      "name": "python",
      "nbconvert_exporter": "python",
      "pygments_lexer": "ipython3",
      "version": "3.11.5"
    },
    "colab": {
      "provenance": [],
      "include_colab_link": true
    }
  },
  "nbformat": 4,
  "nbformat_minor": 5
}