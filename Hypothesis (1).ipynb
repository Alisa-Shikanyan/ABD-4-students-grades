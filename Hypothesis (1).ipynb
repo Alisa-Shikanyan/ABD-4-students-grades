{
 "cells": [
  {
   "cell_type": "markdown",
   "id": "c53ea452",
   "metadata": {},
   "source": [
    "# Анализ факторов, влияющих на успеваемость студентов"
   ]
  },
  {
   "cell_type": "markdown",
   "id": "f1171810",
   "metadata": {},
   "source": [
    "## Подготовка к работе"
   ]
  },
  {
   "cell_type": "code",
   "execution_count": 1,
   "id": "4bffcb24",
   "metadata": {},
   "outputs": [],
   "source": [
    "# Импорт необходимых для работы библиотек\n",
    "\n",
    "import pandas as pd\n",
    "from scipy import stats as st"
   ]
  },
  {
   "cell_type": "code",
   "execution_count": 2,
   "id": "d6ec8397",
   "metadata": {},
   "outputs": [],
   "source": [
    "# Отключение предупреждений в итоговом отчёте\n",
    "\n",
    "import warnings\n",
    "warnings.filterwarnings('ignore')"
   ]
  },
  {
   "cell_type": "code",
   "execution_count": 3,
   "id": "14f3d7be",
   "metadata": {},
   "outputs": [],
   "source": [
    "# Выгрузка предобработанной версии датасета `jamb` \n",
    "\n",
    "jamb = pd.read_csv('/Users/mimikhailova/ВШЭ/jamb.csv')"
   ]
  },
  {
   "cell_type": "code",
   "execution_count": 4,
   "id": "e1bac032",
   "metadata": {
    "scrolled": true
   },
   "outputs": [
    {
     "data": {
      "text/html": [
       "<div>\n",
       "<style scoped>\n",
       "    .dataframe tbody tr th:only-of-type {\n",
       "        vertical-align: middle;\n",
       "    }\n",
       "\n",
       "    .dataframe tbody tr th {\n",
       "        vertical-align: top;\n",
       "    }\n",
       "\n",
       "    .dataframe thead th {\n",
       "        text-align: right;\n",
       "    }\n",
       "</style>\n",
       "<table border=\"1\" class=\"dataframe\">\n",
       "  <thead>\n",
       "    <tr style=\"text-align: right;\">\n",
       "      <th></th>\n",
       "      <th>jamb_score</th>\n",
       "      <th>study_hours_per_week</th>\n",
       "      <th>attendance_rate</th>\n",
       "      <th>teacher_quality</th>\n",
       "      <th>distance_to_school</th>\n",
       "      <th>school_type</th>\n",
       "      <th>school_location</th>\n",
       "      <th>extra_tutorials</th>\n",
       "      <th>access_to_learning_materials</th>\n",
       "      <th>parent_involvement</th>\n",
       "      <th>it_knowledge</th>\n",
       "      <th>age</th>\n",
       "      <th>gender</th>\n",
       "      <th>socioeconomic_status</th>\n",
       "      <th>parent_education_level</th>\n",
       "      <th>assignments_completed</th>\n",
       "    </tr>\n",
       "  </thead>\n",
       "  <tbody>\n",
       "    <tr>\n",
       "      <th>0</th>\n",
       "      <td>192</td>\n",
       "      <td>22</td>\n",
       "      <td>78</td>\n",
       "      <td>4</td>\n",
       "      <td>12.4</td>\n",
       "      <td>Public</td>\n",
       "      <td>Urban</td>\n",
       "      <td>Yes</td>\n",
       "      <td>Yes</td>\n",
       "      <td>High</td>\n",
       "      <td>Medium</td>\n",
       "      <td>17</td>\n",
       "      <td>Male</td>\n",
       "      <td>Low</td>\n",
       "      <td>Tertiary</td>\n",
       "      <td>2</td>\n",
       "    </tr>\n",
       "    <tr>\n",
       "      <th>1</th>\n",
       "      <td>207</td>\n",
       "      <td>14</td>\n",
       "      <td>88</td>\n",
       "      <td>4</td>\n",
       "      <td>2.7</td>\n",
       "      <td>Public</td>\n",
       "      <td>Rural</td>\n",
       "      <td>No</td>\n",
       "      <td>Yes</td>\n",
       "      <td>High</td>\n",
       "      <td>High</td>\n",
       "      <td>15</td>\n",
       "      <td>Male</td>\n",
       "      <td>High</td>\n",
       "      <td>Unknown</td>\n",
       "      <td>1</td>\n",
       "    </tr>\n",
       "    <tr>\n",
       "      <th>2</th>\n",
       "      <td>182</td>\n",
       "      <td>29</td>\n",
       "      <td>87</td>\n",
       "      <td>2</td>\n",
       "      <td>9.6</td>\n",
       "      <td>Public</td>\n",
       "      <td>Rural</td>\n",
       "      <td>Yes</td>\n",
       "      <td>Yes</td>\n",
       "      <td>High</td>\n",
       "      <td>Medium</td>\n",
       "      <td>20</td>\n",
       "      <td>Female</td>\n",
       "      <td>High</td>\n",
       "      <td>Tertiary</td>\n",
       "      <td>2</td>\n",
       "    </tr>\n",
       "    <tr>\n",
       "      <th>3</th>\n",
       "      <td>210</td>\n",
       "      <td>29</td>\n",
       "      <td>99</td>\n",
       "      <td>2</td>\n",
       "      <td>2.6</td>\n",
       "      <td>Public</td>\n",
       "      <td>Urban</td>\n",
       "      <td>No</td>\n",
       "      <td>Yes</td>\n",
       "      <td>Medium</td>\n",
       "      <td>High</td>\n",
       "      <td>22</td>\n",
       "      <td>Female</td>\n",
       "      <td>Medium</td>\n",
       "      <td>Tertiary</td>\n",
       "      <td>1</td>\n",
       "    </tr>\n",
       "    <tr>\n",
       "      <th>4</th>\n",
       "      <td>199</td>\n",
       "      <td>12</td>\n",
       "      <td>98</td>\n",
       "      <td>3</td>\n",
       "      <td>8.8</td>\n",
       "      <td>Public</td>\n",
       "      <td>Urban</td>\n",
       "      <td>No</td>\n",
       "      <td>Yes</td>\n",
       "      <td>Medium</td>\n",
       "      <td>Medium</td>\n",
       "      <td>22</td>\n",
       "      <td>Female</td>\n",
       "      <td>Medium</td>\n",
       "      <td>Tertiary</td>\n",
       "      <td>1</td>\n",
       "    </tr>\n",
       "  </tbody>\n",
       "</table>\n",
       "</div>"
      ],
      "text/plain": [
       "   jamb_score  study_hours_per_week  attendance_rate  teacher_quality  \\\n",
       "0         192                    22               78                4   \n",
       "1         207                    14               88                4   \n",
       "2         182                    29               87                2   \n",
       "3         210                    29               99                2   \n",
       "4         199                    12               98                3   \n",
       "\n",
       "   distance_to_school school_type school_location extra_tutorials  \\\n",
       "0                12.4      Public           Urban             Yes   \n",
       "1                 2.7      Public           Rural              No   \n",
       "2                 9.6      Public           Rural             Yes   \n",
       "3                 2.6      Public           Urban              No   \n",
       "4                 8.8      Public           Urban              No   \n",
       "\n",
       "  access_to_learning_materials parent_involvement it_knowledge  age  gender  \\\n",
       "0                          Yes               High       Medium   17    Male   \n",
       "1                          Yes               High         High   15    Male   \n",
       "2                          Yes               High       Medium   20  Female   \n",
       "3                          Yes             Medium         High   22  Female   \n",
       "4                          Yes             Medium       Medium   22  Female   \n",
       "\n",
       "  socioeconomic_status parent_education_level  assignments_completed  \n",
       "0                  Low               Tertiary                      2  \n",
       "1                 High                Unknown                      1  \n",
       "2                 High               Tertiary                      2  \n",
       "3               Medium               Tertiary                      1  \n",
       "4               Medium               Tertiary                      1  "
      ]
     },
     "execution_count": 4,
     "metadata": {},
     "output_type": "execute_result"
    }
   ],
   "source": [
    "jamb.head()"
   ]
  },
  {
   "cell_type": "markdown",
   "id": "89cb02a6",
   "metadata": {},
   "source": [
    "## Проверка гипотез"
   ]
  },
  {
   "cell_type": "markdown",
   "id": "8c3fb98f",
   "metadata": {},
   "source": [
    "### Верно ли, что студенты, проживающие ближе к месту обучения, сдают экзамены лучше?"
   ]
  },
  {
   "cell_type": "markdown",
   "id": "e2cfe6d0",
   "metadata": {},
   "source": [
    "**Предпосылки:**  студенты, которые живут далеко от школы, начинают свой день раньше остальных. Не исключено, что из-за этого они меньше спят и соответственно меньше отдыхают. Утренняя дорога - это нагрузка на организм, которая приводит к снижению уровня энергии, с которой студент начинает учебный день. Из-за этого он может быть менее сконцентрирован и вовлечен в процесс, а значит может и хуже усваивать материал. "
   ]
  },
  {
   "cell_type": "markdown",
   "id": "fd69367b",
   "metadata": {},
   "source": [
    "Медианное значение расстояния равно 10.0 км, то есть ровно половина студентов проживает на расстоянии менее 10 км от школы, а ровно половина – более. Сделаем срезы на основании этого значения:"
   ]
  },
  {
   "cell_type": "code",
   "execution_count": 16,
   "id": "3538cdd3",
   "metadata": {},
   "outputs": [],
   "source": [
    "distance_less = jamb[jamb['distance_to_school'] <= 10]\n",
    "distance_more = jamb[jamb['distance_to_school'] > 10]"
   ]
  },
  {
   "cell_type": "code",
   "execution_count": 11,
   "id": "a3ad003d",
   "metadata": {},
   "outputs": [
    {
     "data": {
      "text/plain": [
       "(2544,)"
      ]
     },
     "execution_count": 11,
     "metadata": {},
     "output_type": "execute_result"
    }
   ],
   "source": [
    "distance_less.shape"
   ]
  },
  {
   "cell_type": "code",
   "execution_count": 12,
   "id": "c92cfa6d",
   "metadata": {},
   "outputs": [
    {
     "data": {
      "text/plain": [
       "(2456,)"
      ]
     },
     "execution_count": 12,
     "metadata": {},
     "output_type": "execute_result"
    }
   ],
   "source": [
    "distance_more.shape"
   ]
  },
  {
   "cell_type": "markdown",
   "id": "c787fb84",
   "metadata": {},
   "source": [
    "У нас есть тест Шапиро-Уилка, который помогает проверить, распределены ли данные нормально. В данном случае этой проверкой можно пренебречь: нам помогает ЦПТ, которая говорит, что при достаточно большом объеме выборки распределение средних значений будет стремиться к нормальному, даже если исходные данные распределены ненормально.\n",
    "\n",
    "Именно поэтому для проверки статитической значимости различия средних баллов будем использовать t-test"
   ]
  },
  {
   "cell_type": "markdown",
   "id": "7975da65",
   "metadata": {},
   "source": [
    "**Нулевая гипотеза Н0:** средние баллы JAMB у студентов, проживающих ≤10 км и >10 км от школы, одинаковы.\n",
    "\n",
    "**Альтернативная правосторонняя гипотеза Н1:** у студентов, которые живут ближе к школе (≤10 км), больше среднего балла студентов, которые живут дальше (>10 км). "
   ]
  },
  {
   "cell_type": "code",
   "execution_count": 19,
   "id": "8e2fc4db",
   "metadata": {},
   "outputs": [
    {
     "name": "stdout",
     "output_type": "stream",
     "text": [
      "Дисперсии выборок можно считать равными\n",
      "Средний балл у группы с меньшим расстоянием: 177.6387578616352\n",
      "Средний балл у группы с большим расстоянием: 170.3827361563518\n",
      "p-значение: 3.4489568760053385e-08\n",
      "Отвергаем нулевую гипотезу\n"
     ]
    }
   ],
   "source": [
    "from scipy.stats import ttest_ind, levene\n",
    "\n",
    "# Тест Левена на гомогенность дисперсий\n",
    "\n",
    "stat, p_levene = levene(distance_less['jamb_score'], distance_more['jamb_score'])\n",
    "equal_var = p_levene > 0.05\n",
    "if equal_var == False:\n",
    "    print(\"Дисперсии выборок можно считать равными\")\n",
    "else:\n",
    "    print(\"Дисперсии выборок различны\")\n",
    "\n",
    "# t-test\n",
    "\n",
    "print(f'Средний балл у группы с меньшим расстоянием: {distance_less[\"jamb_score\"].mean()}')\n",
    "print(f'Средний балл у группы с большим расстоянием: {distance_more[\"jamb_score\"].mean()}')\n",
    "\n",
    "# Уровень статистической значимости\n",
    "\n",
    "alpha = 0.05\n",
    "\n",
    "# Проведение t-теста\n",
    "\n",
    "result = st.ttest_ind(distance_less['jamb_score'], \n",
    "                      distance_more['jamb_score'],\n",
    "                      alternative='greater')\n",
    "\n",
    "# Вывод p-value\n",
    "\n",
    "print(f'p-значение: {result.pvalue}')\n",
    "      \n",
    "# Вывод об отвержении или неотвержении нулевой гипотезы\n",
    "      \n",
    "if result.pvalue < alpha:\n",
    "      print('Отвергаем нулевую гипотезу')\n",
    "else:\n",
    "      print('Не получилось отвергнуть нулевую гипотезу')"
   ]
  },
  {
   "cell_type": "markdown",
   "id": "bb26d9a9",
   "metadata": {},
   "source": [
    "📌 **Выводы:**\n",
    "* Значение p-value значительно меньше стандартного порога значимости, значит мы можем отклонить нулевую гипотезу;\n",
    "* Есть статистически значимая разница в результатах экзамена студентов, живующих ближе к школе. "
   ]
  }
 ],
 "metadata": {
  "kernelspec": {
   "display_name": "Python 3 (ipykernel)",
   "language": "python",
   "name": "python3"
  },
  "language_info": {
   "codemirror_mode": {
    "name": "ipython",
    "version": 3
   },
   "file_extension": ".py",
   "mimetype": "text/x-python",
   "name": "python",
   "nbconvert_exporter": "python",
   "pygments_lexer": "ipython3",
   "version": "3.11.5"
  }
 },
 "nbformat": 4,
 "nbformat_minor": 5
}
