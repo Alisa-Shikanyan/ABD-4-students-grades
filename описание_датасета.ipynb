{
 "cells": [
  {
   "cell_type": "markdown",
   "metadata": {},
   "source": [
    "Датасет: Students Performance in 2024 JAMB\n",
    "https://www.kaggle.com/datasets/idowuadamo/students-performance-in-2024-jamb/data\n",
    "\n",
    "\n",
    "Справка:\n",
    "JAMB (Joint Admissions and Matriculation Board). \n",
    "Единый вступительный экзамен для абитуриентов нигерийских университетов, действителен в течение года и имеет диапазон 0-400 баллов.\n",
    "Проходной балл 140 для частных и государственных университетов и 100 для политехнических и педагогических колледжей.\n",
    "\n",
    "Количество столбцов - 17 (16 без ID)\n",
    "Количество строк - 5000.\n",
    "Пропуски:\n",
    "Parent_Education_Level   -  891\n",
    "\n",
    "Описание данных (проценты округлены до целых):\n",
    "\n",
    "JAMB_Score - Балл, полученный студентом на экзамене JAMB. Количественная, теоретитчески изменяется от 0 до 400, в данном наборе от 100 до 367 с перевесом в сторону меньших значений. Тип переменной - количественная, дискретная.\n",
    "\n",
    "Study_Hours_Per_Week - Количество целых часов, которые студент посвящает учебе в неделю. От 0 до 40. По визуализации на кагле напоминает нормальную, но масштабирование графика и p-value этого не подтверждают. Слишком много выбросов (примерно на чётные 4-ём значения). Тип переменной - количественная, дискретная.\n",
    "\n",
    "Attendance_Rate - Процент дней, в течение которых студент посещал школу в течение учебного года. Тип переменной - количественная, дискретная (считает целлые проценты, т.е. 10 и 11, а не 10.5).\n",
    "\n",
    "Teacher_Quality - Качество преподавания в школе, оцениваемое по шкале от 1 до 5. Тип переменной - категориальная, ранговая.\n",
    "\n",
    "Distance_To_School - Расстояние, которое ученик преодолевает, чтобы добраться до учебного заведения, варьируется от 0 до 20 км. На кагле выглядит похожим на нормальное, но  масштабирование графика и p-value этого не подтверждают. Толстые хвосты. Тип переменной - количественная, непрерывная.\n",
    "\n",
    "School_Type - Тип школы, которую посещает учащийся, 'Public' (75%) или 'Private' (25%). Тип переменной - категориальная, бинарная.\n",
    "School_Location - Местоположение школы учащегося, 'Urban' (57%) или 'Rural' (43%) Тип переменной - категориальная, бинарная.\n",
    "\n",
    "Extra_Tutorials - Проходил ли учащийся дополнительные занятия, 'Yes' (54%) или 'No' (46%) . Тип переменной - категориальная, бинарная.\n",
    "\n",
    "Access_To_Learning_Materials - Имеет ли учащийся доступ к учебным материалам, таким как учебники и интернет-ресурсы, 'Yes' (67%) или 'No' (33%) . Тип переменной - категориальная, бинарная.\n",
    "\n",
    "Parent_Involvement - Уровень участия родителей или опекунов в обучении учащихся, 'Medium' (40%), 'Low' (38%) или 'High' (22%). Тип переменной - категориальная, ранговая.\n",
    "\n",
    "IT_Knowledge - указывает на умение учащегося пользоваться компьютером, 'Medium' (39%), 'Low' (37%) или 'High' (24%). Тип переменной - категориальная, ранговая.\n",
    "\n",
    "Student_ID - Уникальный идентификатор для каждого студента. Тип переменной - категориальная, уникальный идентификатор.\n",
    "\n",
    "Age - данная единица отражает возраст в целых числах. От 15 до 22 лет.  Примерно одинаковое количество лиц каждого возраста в датасете. Тип переменной - количественная, дискретная.\n",
    "\n",
    "Gender - Пол студента, 'Female' (51%) или 'Male' (49%). Тип переменной - категориальная, бинарная.\n",
    "\n",
    "Socioeconomic_Status - Социально-экономическое положение семьи студента, 'Medium' (39%), 'Low' (39%) или 'High' (22%). Тип переменной - категориальная, ранговая.\n",
    "\n",
    "Parent_Education_Level - Уровень образования родителей (максимальный), 'Secondary' (38%), 'Primary' (32%) или 'Tertiary' (30%). Тип переменной - категориальная, ранговая.\n",
    "\n",
    "Assignments_Completed - Уровень выполнения заданий студентом, оцениваемый по шкале от 1 до 5. Перевес в сторону низких значений, около 50% -1. Тип переменной - категориальная, ранговая.\n"
   ]
  },
  {
   "cell_type": "code",
   "execution_count": null,
   "metadata": {},
   "outputs": [],
   "source": [
    "import numpy as np # linear algebra\n",
    "import pandas as pd # data processing, CSV file I/O (e.g. pd.read_csv)\n",
    "\n",
    "import matplotlib.pyplot as plt\n",
    "import seaborn as sns\n",
    "from scipy.stats import shapiro, normaltest, anderson\n",
    "# Input data files are available in the read-only \"../input/\" directory\n",
    "# For example, running this (by clicking run or pressing Shift+Enter) will list all files under the input directory\n",
    "\n",
    "import os\n",
    "for dirname, _, filenames in os.walk('/kaggle/input'):\n",
    "    for filename in filenames:\n",
    "        print(os.path.join(dirname, filename))"
   ]
  },
  {
   "cell_type": "code",
   "execution_count": null,
   "metadata": {},
   "outputs": [],
   "source": [
    "df = pd.read_csv('/kaggle/input/students-performance-in-2024-jamb/jamb_exam_results.csv')\n",
    "df.head()"
   ]
  },
  {
   "cell_type": "code",
   "execution_count": null,
   "metadata": {},
   "outputs": [],
   "source": [
    "def basic_info(df):\n",
    "    print(\"Basic Information:\")\n",
    "    print(df.info())\n",
    "    print(\"\\nData Types:\")\n",
    "    print(df.dtypes)\n",
    "    print(\"\\nNumber of Missing Values:\")\n",
    "    print(df.isnull().sum())\n",
    "\n",
    "\n",
    "def class_balance(df):\n",
    "    print(\"\\nClass Balance:\")\n",
    "    for column in df.select_dtypes(include=['object', 'category']).columns:\n",
    "        print(f\"\\n{column}:\")\n",
    "        print(df[column].value_counts(normalize=True))\n",
    "\n",
    "\n",
    "def check_distributions(df):\n",
    "    print(\"\\nDistributions:\")\n",
    "    for column in df.select_dtypes(include=['number']).columns:\n",
    "        print(f\"\\n{column}:\")\n",
    "        print(df[column].describe())\n",
    "\n",
    "def check_normal_distribution(df):\n",
    "    print(\"\\nNormal Distribution Checks:\")\n",
    "    numerical_columns = df.select_dtypes(include=['number']).columns\n",
    "\n",
    "    for column in numerical_columns:\n",
    "        data = df[column].dropna()\n",
    "        print(f\"\\n{column}:\")\n",
    "        stat, p_value = shapiro(data)\n",
    "        print(f\"Shapiro-Wilk Test - Statistic: {stat}, p-value: {p_value}\")\n",
    "        stat, p_value = normaltest(data)\n",
    "        print(f\"D'Agostino and Pearson's Test - Statistic: {stat}, p-value: {p_value}\")\n",
    "        result = anderson(data)\n",
    "        print(f\"Anderson-Darling Test - Statistic: {result.statistic}\")\n",
    "        print(f\"Critical Values: {result.critical_values}\")\n",
    "        print(f\"Significance Levels: {result.significance_level}\")\n",
    "        plt.figure(figsize=(12, 6))\n",
    "        sns.histplot(data, kde=True, bins=30)\n",
    "        plt.title(f'Distribution of {column}')\n",
    "        plt.show()\n",
    "\n",
    "basic_info(df)\n",
    "class_balance(df)\n",
    "check_distributions(df)\n",
    "check_normal_distribution(df)"
   ]
  },
  {
   "cell_type": "code",
   "execution_count": null,
   "metadata": {},
   "outputs": [],
   "source": [
    "df.Teacher_Quality.value_counts()/df.Teacher_Quality.count()"
   ]
  },
  {
   "cell_type": "code",
   "execution_count": null,
   "metadata": {},
   "outputs": [],
   "source": [
    "df.Assignments_Completed.value_counts()/df.Teacher_Quality.count()"
   ]
  }
 ],
 "metadata": {
  "language_info": {
   "name": "python"
  },
  "orig_nbformat": 4
 },
 "nbformat": 4,
 "nbformat_minor": 2
}
